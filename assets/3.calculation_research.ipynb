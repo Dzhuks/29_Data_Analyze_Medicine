{
 "cells": [
  {
   "cell_type": "markdown",
   "metadata": {
    "id": "YCBrcVFPB9ac"
   },
   "source": [
    "# 3. Проведение расчётов и исследований\n",
    "\n"
   ]
  },
  {
   "cell_type": "code",
   "execution_count": 107,
   "metadata": {},
   "outputs": [],
   "source": [
    "import itertools\n",
    "import warnings\n",
    "\n",
    "import matplotlib.pyplot as plt\n",
    "import numpy as np\n",
    "import pandas as pd\n",
    "import seaborn as sns\n",
    "from scipy import stats"
   ]
  },
  {
   "cell_type": "markdown",
   "metadata": {},
   "source": [
    "## Загрузка обработанных данных"
   ]
  },
  {
   "cell_type": "code",
   "execution_count": 108,
   "metadata": {},
   "outputs": [
    {
     "data": {
      "text/html": [
       "<div>\n",
       "<style scoped>\n",
       "    .dataframe tbody tr th:only-of-type {\n",
       "        vertical-align: middle;\n",
       "    }\n",
       "\n",
       "    .dataframe tbody tr th {\n",
       "        vertical-align: top;\n",
       "    }\n",
       "\n",
       "    .dataframe thead th {\n",
       "        text-align: right;\n",
       "    }\n",
       "</style>\n",
       "<table border=\"1\" class=\"dataframe\">\n",
       "  <thead>\n",
       "    <tr style=\"text-align: right;\">\n",
       "      <th></th>\n",
       "      <th>развитие_опп</th>\n",
       "      <th>хбп</th>\n",
       "      <th>возраст</th>\n",
       "      <th>пол</th>\n",
       "      <th>гб</th>\n",
       "      <th>сахарный_диабет</th>\n",
       "      <th>стенокардия</th>\n",
       "      <th>инфаркт_миокарда</th>\n",
       "      <th>мерцательная_аритмия</th>\n",
       "      <th>желудочковая_экстрасистолия</th>\n",
       "      <th>...</th>\n",
       "      <th>аик</th>\n",
       "      <th>количество_шунтов</th>\n",
       "      <th>длительность_операции</th>\n",
       "      <th>длительность_аик</th>\n",
       "      <th>время_пережатия_аорты</th>\n",
       "      <th>объем_кровопотерии</th>\n",
       "      <th>объем_гемотрансфузии</th>\n",
       "      <th>объем_инфузий</th>\n",
       "      <th>диурез</th>\n",
       "      <th>аик_с_переливанием_крови</th>\n",
       "    </tr>\n",
       "  </thead>\n",
       "  <tbody>\n",
       "    <tr>\n",
       "      <th>0</th>\n",
       "      <td>нет</td>\n",
       "      <td>Стадия C1-C2</td>\n",
       "      <td>67</td>\n",
       "      <td>1</td>\n",
       "      <td>1</td>\n",
       "      <td>1</td>\n",
       "      <td>1</td>\n",
       "      <td>1</td>\n",
       "      <td>0</td>\n",
       "      <td>0</td>\n",
       "      <td>...</td>\n",
       "      <td>0</td>\n",
       "      <td>1</td>\n",
       "      <td>150.0</td>\n",
       "      <td>0.0</td>\n",
       "      <td>0.0</td>\n",
       "      <td>200.0</td>\n",
       "      <td>830.0</td>\n",
       "      <td>1200.0</td>\n",
       "      <td>900.0</td>\n",
       "      <td>False</td>\n",
       "    </tr>\n",
       "    <tr>\n",
       "      <th>1</th>\n",
       "      <td>есть</td>\n",
       "      <td>Стадия C1-C2</td>\n",
       "      <td>69</td>\n",
       "      <td>1</td>\n",
       "      <td>1</td>\n",
       "      <td>0</td>\n",
       "      <td>1</td>\n",
       "      <td>0</td>\n",
       "      <td>0</td>\n",
       "      <td>0</td>\n",
       "      <td>...</td>\n",
       "      <td>1</td>\n",
       "      <td>4</td>\n",
       "      <td>235.0</td>\n",
       "      <td>143.0</td>\n",
       "      <td>48.0</td>\n",
       "      <td>600.0</td>\n",
       "      <td>640.0</td>\n",
       "      <td>900.0</td>\n",
       "      <td>800.0</td>\n",
       "      <td>True</td>\n",
       "    </tr>\n",
       "    <tr>\n",
       "      <th>2</th>\n",
       "      <td>нет</td>\n",
       "      <td>Пациенты без ХБП</td>\n",
       "      <td>50</td>\n",
       "      <td>1</td>\n",
       "      <td>1</td>\n",
       "      <td>0</td>\n",
       "      <td>1</td>\n",
       "      <td>1</td>\n",
       "      <td>0</td>\n",
       "      <td>0</td>\n",
       "      <td>...</td>\n",
       "      <td>0</td>\n",
       "      <td>1</td>\n",
       "      <td>210.0</td>\n",
       "      <td>0.0</td>\n",
       "      <td>0.0</td>\n",
       "      <td>250.0</td>\n",
       "      <td>0.0</td>\n",
       "      <td>1800.0</td>\n",
       "      <td>500.0</td>\n",
       "      <td>False</td>\n",
       "    </tr>\n",
       "    <tr>\n",
       "      <th>3</th>\n",
       "      <td>нет</td>\n",
       "      <td>Стадия C1-C2</td>\n",
       "      <td>62</td>\n",
       "      <td>1</td>\n",
       "      <td>1</td>\n",
       "      <td>0</td>\n",
       "      <td>1</td>\n",
       "      <td>1</td>\n",
       "      <td>1</td>\n",
       "      <td>0</td>\n",
       "      <td>...</td>\n",
       "      <td>1</td>\n",
       "      <td>3</td>\n",
       "      <td>210.0</td>\n",
       "      <td>71.0</td>\n",
       "      <td>43.0</td>\n",
       "      <td>500.0</td>\n",
       "      <td>1283.0</td>\n",
       "      <td>1700.0</td>\n",
       "      <td>1700.0</td>\n",
       "      <td>True</td>\n",
       "    </tr>\n",
       "    <tr>\n",
       "      <th>4</th>\n",
       "      <td>есть</td>\n",
       "      <td>Стадия C1-C2</td>\n",
       "      <td>55</td>\n",
       "      <td>1</td>\n",
       "      <td>1</td>\n",
       "      <td>1</td>\n",
       "      <td>1</td>\n",
       "      <td>1</td>\n",
       "      <td>0</td>\n",
       "      <td>0</td>\n",
       "      <td>...</td>\n",
       "      <td>1</td>\n",
       "      <td>3</td>\n",
       "      <td>265.0</td>\n",
       "      <td>116.0</td>\n",
       "      <td>74.0</td>\n",
       "      <td>500.0</td>\n",
       "      <td>1560.0</td>\n",
       "      <td>1800.0</td>\n",
       "      <td>1300.0</td>\n",
       "      <td>True</td>\n",
       "    </tr>\n",
       "  </tbody>\n",
       "</table>\n",
       "<p>5 rows × 68 columns</p>\n",
       "</div>"
      ],
      "text/plain": [
       "  развитие_опп               хбп  возраст  пол  гб  сахарный_диабет  \\\n",
       "0          нет      Стадия C1-C2       67    1   1                1   \n",
       "1         есть      Стадия C1-C2       69    1   1                0   \n",
       "2          нет  Пациенты без ХБП       50    1   1                0   \n",
       "3          нет      Стадия C1-C2       62    1   1                0   \n",
       "4         есть      Стадия C1-C2       55    1   1                1   \n",
       "\n",
       "   стенокардия  инфаркт_миокарда  мерцательная_аритмия  \\\n",
       "0            1                 1                     0   \n",
       "1            1                 0                     0   \n",
       "2            1                 1                     0   \n",
       "3            1                 1                     1   \n",
       "4            1                 1                     0   \n",
       "\n",
       "   желудочковая_экстрасистолия  ...  аик  количество_шунтов  \\\n",
       "0                            0  ...    0                  1   \n",
       "1                            0  ...    1                  4   \n",
       "2                            0  ...    0                  1   \n",
       "3                            0  ...    1                  3   \n",
       "4                            0  ...    1                  3   \n",
       "\n",
       "   длительность_операции  длительность_аик  время_пережатия_аорты  \\\n",
       "0                  150.0               0.0                    0.0   \n",
       "1                  235.0             143.0                   48.0   \n",
       "2                  210.0               0.0                    0.0   \n",
       "3                  210.0              71.0                   43.0   \n",
       "4                  265.0             116.0                   74.0   \n",
       "\n",
       "   объем_кровопотерии  объем_гемотрансфузии  объем_инфузий  диурез  \\\n",
       "0               200.0                 830.0         1200.0   900.0   \n",
       "1               600.0                 640.0          900.0   800.0   \n",
       "2               250.0                   0.0         1800.0   500.0   \n",
       "3               500.0                1283.0         1700.0  1700.0   \n",
       "4               500.0                1560.0         1800.0  1300.0   \n",
       "\n",
       "   аик_с_переливанием_крови  \n",
       "0                     False  \n",
       "1                      True  \n",
       "2                     False  \n",
       "3                      True  \n",
       "4                      True  \n",
       "\n",
       "[5 rows x 68 columns]"
      ]
     },
     "execution_count": 108,
     "metadata": {},
     "output_type": "execute_result"
    }
   ],
   "source": [
    "data = pd.read_csv(r\"content/processed_data.csv\")\n",
    "data.head()"
   ]
  },
  {
   "cell_type": "markdown",
   "metadata": {
    "id": "GSNDVR-eDK8g"
   },
   "source": [
    "## 3.1 Посчитать процент пациентов с хроническими заболеваниям (сахарный диабет, гипертония, хроническая болезнь почек) для групп “есть ОПП/нет ОПП”"
   ]
  },
  {
   "cell_type": "code",
   "execution_count": 109,
   "metadata": {
    "colab": {
     "base_uri": "https://localhost:8080/"
    },
    "id": "znp99w8jDBZc",
    "outputId": "56fd8d13-48a0-42b2-8729-dc444401473e"
   },
   "outputs": [
    {
     "name": "stdout",
     "output_type": "stream",
     "text": [
      "сахарный_диабет\n",
      "есть ОПП - 69.49%\n",
      "нет ОПП - 30.51%\n",
      "\n",
      "гб\n",
      "есть ОПП - 61.9%\n",
      "нет ОПП - 38.1%\n",
      "\n",
      "наличие_хбп\n",
      "есть ОПП - 65.69%\n",
      "нет ОПП - 34.31%\n",
      "\n"
     ]
    }
   ],
   "source": [
    "def count_percentage(category: str, temp_df: pd.DataFrame):\n",
    "    '''\n",
    "        category - название колонки, процент которой будет вычисляться\n",
    "        temp_df - временный датасет только с двумся колонками: развитие_опп, одина из ['сахарный_диабет', 'гб', 'наличие_хбп']\n",
    "    '''\n",
    "\n",
    "    # преобразование датасета, чтобы остались только те, у кого есть хроническое заболевание\n",
    "    temp_df[category] = temp_df[category].apply(lambda x: 1 if x == 1 else np.NaN)\n",
    "    temp_df = temp_df.dropna(axis=0)\n",
    "\n",
    "    # подсчёт количества пациентов, которые имеют/не имеют ОПП\n",
    "    data = temp_df.groupby(['развитие_опп']).agg({category: 'count'})\n",
    "\n",
    "    # высчитывание процента пациентов, которые имеют/не имеют ОПП\n",
    "    answer = [category]\n",
    "    summ = sum(list(data[category]))\n",
    "    for en, j in enumerate(data[category]):\n",
    "        answer.append(f'{list(data[category].index)[en]} ОПП - {round(j / summ * 100, 2)}%')\n",
    "\n",
    "    '''\n",
    "        возвращаем список, который содержит следующую информацию:\n",
    "        answer[0] - название хронической болезни\n",
    "        answer[1] - процент пациентов, которые болеют хронически и имеют ОПП\n",
    "        answer[2] - процент пациентов, которые болеют хронически, но не имеют ОПП\n",
    "    '''\n",
    "    return answer\n",
    "\n",
    "\n",
    "warnings.filterwarnings('ignore')\n",
    "data['наличие_хбп'] = data['хбп'].apply(lambda x: 0 if x == 'Пациенты без ХБП' else 1)\n",
    "\n",
    "# цикл по всем необходимым хроническим болезням\n",
    "for categ in ['сахарный_диабет', 'гб', 'наличие_хбп']:\n",
    "    ans = count_percentage(categ, data[[categ, 'развитие_опп']])\n",
    "    print(ans[0])\n",
    "    print(ans[1], ans[2], sep='\\n')\n",
    "    print()\n"
   ]
  },
  {
   "cell_type": "markdown",
   "metadata": {},
   "source": [
    "## 3.2 Ввести новый фактор (описать и обосновать выбор фактора и его значений) на основе столбца “Индекс массы тела”.  Посчитать количество пациентов, имеющих проблемы с сердцем (выбор перечня проблем должен быть описан и обоснован) для каждой группы. Сделать вывод"
   ]
  },
  {
   "cell_type": "markdown",
   "metadata": {},
   "source": [
    "Для столбца \"Индекс массы тела\" был введен новый фактор \"имт_группа\". Этот параметр выбран в соответствии с рекомендациями Всемирной организации здравоохранения (ВОЗ) и базируется на следующей интерпретации значений ИМТ[2]:\n",
    "\n",
    "|Индекс массы тела | Соответствие между массой человека и его ростом|\n",
    "| ----------- | ----------- |\n",
    "|16 и менее|\tВыраженный дефицит массы тела|\n",
    "|16—18,5|\tНедостаточная (дефицит) масса тела|\n",
    "|18,5—25|\tНорма|\n",
    "|25—30|\tИзбыточная масса тела (предожирение)|\n",
    "|30—35|\tОжирение 1 степени|\n",
    "|35—40|\tОжирение 2 степени|\n",
    "|40 и более|\tОжирение 3 степени|\n",
    "\n",
    "(ссылка на статью в Википедии - https://ru.wikipedia.org/wiki/%D0%98%D0%BD%D0%B4%D0%B5%D0%BA%D1%81_%D0%BC%D0%B0%D1%81%D1%81%D1%8B_%D1%82%D0%B5%D0%BB%D0%B0)."
   ]
  },
  {
   "cell_type": "code",
   "execution_count": 110,
   "metadata": {},
   "outputs": [
    {
     "data": {
      "text/plain": [
       "0                      Ожирение 1 степени\n",
       "1    Избыточная масса тела (предожирение)\n",
       "2                      Ожирение 1 степени\n",
       "3                      Ожирение 1 степени\n",
       "4                      Ожирение 1 степени\n",
       "Name: имт_группа, dtype: object"
      ]
     },
     "execution_count": 110,
     "metadata": {},
     "output_type": "execute_result"
    }
   ],
   "source": [
    "def _bmi_categorizer(bmi: float) -> str:\n",
    "    if bmi <= 16.0:\n",
    "        return \"Выраженный дефицит массы тела\"\n",
    "    if bmi < 18.5:\n",
    "        return \"Недостаточная (дефицит) масса тела\"\n",
    "    if bmi < 25:\n",
    "        return \"Норма\"\n",
    "    if bmi < 30:\n",
    "        return \"Избыточная масса тела (предожирение)\"\n",
    "    if bmi < 35:\n",
    "        return \"Ожирение 1 степени\"\n",
    "    if bmi < 40:\n",
    "        return \"Ожирение 2 степени\"\n",
    "    return \"Ожирение 3 степени\"\n",
    "\n",
    "\n",
    "data['имт_группа'] = data['имт'].apply(_bmi_categorizer).astype(str)\n",
    "data['имт_группа'].head(5)"
   ]
  },
  {
   "cell_type": "markdown",
   "metadata": {},
   "source": [
    "Перечень сердечных проблемы:\n",
    "> 1. **гб (Гипортоническая болезнь)** - патология сердца и сосудов, проявляющаяся повышением артериального давления\n",
    "> 2. **стенокардия** - это болевой синдром в грудной клетке, одно из проявлений ишемической болезни сердца (ИБС)\n",
    "> 3. **инфаркт_миокарда** - серде́чный при́ступ возникает из-за полной или частичной блокировки артерии, питающей сердце\n",
    "> 4. **мерцательная_аритмия** - нарушение сердечного ритма, характеризующееся хаотическим, нерегулярным сокращением миокарда\n",
    "> 5. **желудочковая_экстрасистолия** - нарушение сердечного ритма, характеризующееся хаотическим, нерегулярным сокращением миокарда предсердий\n",
    "> 6. **а-в_блокада** - частичное или полное прерывание проведения импульса от предсердий к желудочкам. Наиболее частой причиной является идиопатический фиброз или склероз проводящей системы сердца.\n",
    "> 7. **блокада_ножек_пучка_гиса** - нарушение внутрисердечной проводимости, характеризующееся замедлением или полным прекращением проведения импульсов возбуждения по одной или нескольким ветвям пучка Гиса\n",
    "> 8. **хсн** (хроническая сердечная недостаточность) - Когда сердце не обеспечивает достаточное кровоснабжение организма, это вызывает отеки и кислородное голодание тканей и внутренних органов.\n",
    "> 9. **нк** (недостаточность кровообращения) - синдром, вызванный декомпенсированным нарушением функции миокарда (мышечная ткань сердечного типа)\n",
    "> 10. **аик** (наличие аппарата искусственного кровообращения) - когда серце уже не справляется со своими функциями"
   ]
  },
  {
   "cell_type": "code",
   "execution_count": 111,
   "metadata": {},
   "outputs": [],
   "source": [
    "heart_problem_columns = [\n",
    "    \"гб\",\n",
    "    \"стенокардия\",\n",
    "    \"инфаркт_миокарда\",\n",
    "    \"мерцательная_аритмия\",\n",
    "    \"желудочковая_экстрасистолия\",\n",
    "    \"а-в_блокада\",\n",
    "    \"блокада_ножек_пучка_гиса\",\n",
    "    \"хсн\",\n",
    "    \"нк\",\n",
    "    \"аик\",\n",
    "]"
   ]
  },
  {
   "cell_type": "code",
   "execution_count": 112,
   "metadata": {},
   "outputs": [
    {
     "data": {
      "text/plain": [
       "имт_группа                            имеет_сердечные_проблемы\n",
       "Избыточная масса тела (предожирение)  True                        109\n",
       "Норма                                 True                         18\n",
       "Ожирение 1 степени                    True                         56\n",
       "Ожирение 2 степени                    True                          3\n",
       "dtype: int64"
      ]
     },
     "execution_count": 112,
     "metadata": {},
     "output_type": "execute_result"
    }
   ],
   "source": [
    "data[\"имеет_сердечные_проблемы\"] = data[heart_problem_columns].any(axis=1)\n",
    "bpi_grouped_data = data.groupby([\"имт_группа\", \"имеет_сердечные_проблемы\"]).size()\n",
    "bpi_grouped_data"
   ]
  },
  {
   "cell_type": "markdown",
   "metadata": {},
   "source": [
    "Вывод: все пациенты имеют сердечные проблемы так или иначе"
   ]
  },
  {
   "cell_type": "markdown",
   "metadata": {},
   "source": [
    "## 3.3 Исследовать зависимость длительности операции от факта перенесенного в прошлом инфаркта миокарда\n"
   ]
  },
  {
   "cell_type": "markdown",
   "metadata": {},
   "source": [
    "$H_{0}$: Нету связи между фактором перенесенным в прошлом инфарктом миокарда и длительности операции\\\n",
    "$H_{1}$: Есть связь между фактором перенесенным в прошлом инфарктом миокарда и длительности операции"
   ]
  },
  {
   "cell_type": "markdown",
   "metadata": {},
   "source": [
    "### Графический анализ"
   ]
  },
  {
   "cell_type": "code",
   "execution_count": 113,
   "metadata": {},
   "outputs": [
    {
     "data": {
      "image/png": "[encoded data removed]",
      "text/plain": [
       "<Figure size 640x480 with 1 Axes>"
      ]
     },
     "metadata": {},
     "output_type": "display_data"
    }
   ],
   "source": [
    "ax = sns.boxplot(y=\"длительность_операции\", hue=\"инфаркт_миокарда\", data=data)"
   ]
  },
  {
   "cell_type": "markdown",
   "metadata": {},
   "source": [
    "Хотя медиана и интерквартальных размах схожи в обоих \"ящиках с усами\", у второго графика немного выше первый квартиль и более выражен максимум по сравнению с первой графикой. Это указывает, что в целом распределение данных во втором графике смещено немного вверх, но на основе этого нельзя сделать вывод о зависимости длительности операции от факта перенесенного в прошлом инфаркта миокарда."
   ]
  },
  {
   "cell_type": "markdown",
   "metadata": {},
   "source": [
    "### Аналитический анализ"
   ]
  },
  {
   "cell_type": "code",
   "execution_count": 114,
   "metadata": {},
   "outputs": [
    {
     "name": "stdout",
     "output_type": "stream",
     "text": [
      "Данные распределены ненормально\n"
     ]
    }
   ],
   "source": [
    "def check_normality(data):\n",
    "    _, p_value_normality = stats.shapiro(data)\n",
    "    if p_value_normality <= 0.05:\n",
    "        print(\"Данные распределены ненормально\")\n",
    "    else:\n",
    "        print(\"Данные распределены нормально\")\n",
    "\n",
    "check_normality(data['длительность_операции'])"
   ]
  },
  {
   "cell_type": "markdown",
   "metadata": {},
   "source": [
    "Шкала у фактора \"инфаркт_миокарда\" бинарный (номинальный), шкала у отклика \"длительность_операции\" количественный (ненормальная), поэтому используем **U-критерий Манна-Уитни**"
   ]
  },
  {
   "cell_type": "code",
   "execution_count": 115,
   "metadata": {},
   "outputs": [
    {
     "data": {
      "text/plain": [
       "0.97"
      ]
     },
     "execution_count": 115,
     "metadata": {},
     "output_type": "execute_result"
    }
   ],
   "source": [
    "group1 = data[data[\"инфаркт_миокарда\"] == 0][\"длительность_операции\"]\n",
    "group2 = data[data[\"инфаркт_миокарда\"] == 1][\"длительность_операции\"]\n",
    "\n",
    "cor, pvalue = stats.mannwhitneyu(group1, group2)\n",
    "round(pvalue, 2)"
   ]
  },
  {
   "cell_type": "markdown",
   "metadata": {},
   "source": [
    "При таком уровне значимости, можно сказать что нету связи между перенесенным в прошлом инфарктом миокарда и длительность операции"
   ]
  },
  {
   "cell_type": "markdown",
   "metadata": {},
   "source": []
  },
  {
   "cell_type": "markdown",
   "metadata": {},
   "source": [
    "## 3.4 Верно ли, что у пациентов с ИМТ выше нормы будет повышенный уровень холестерина?\n"
   ]
  },
  {
   "cell_type": "markdown",
   "metadata": {},
   "source": [
    "Согласно ВОЗ, избыточная масса тела начинается с 25 ИМТ\n",
    "\n",
    "|Индекс массы тела | Соответствие между массой человека и его ростом|\n",
    "| ----------- | ----------- |\n",
    "|18,5—25|\tНорма|\n",
    "|25—30|\tИзбыточная масса тела (предожирение)|\n",
    "|30—35|\tОжирение 1 степени|\n",
    "|35—40|\tОжирение 2 степени|\n",
    "|40 и более|\tОжирение 3 степени|"
   ]
  },
  {
   "cell_type": "code",
   "execution_count": 116,
   "metadata": {},
   "outputs": [
    {
     "name": "stdout",
     "output_type": "stream",
     "text": [
      "ИМТ ниже нормы - уровень холестерина 4.93\n",
      "ИМТ выше нормы -  уровень холестерина 4.84\n"
     ]
    }
   ],
   "source": [
    "high_imt = data[data[\"имт\"] >= 25]\n",
    "low_imt = data[data[\"имт\"] < 25]\n",
    "\n",
    "print(f'ИМТ ниже нормы - уровень холестерина {round(low_imt[\"холестерин\"].mean(), 2)}')\n",
    "print(f'ИМТ выше нормы -  уровень холестерина {round(high_imt[\"холестерин\"].mean(), 2)}')"
   ]
  },
  {
   "cell_type": "markdown",
   "metadata": {},
   "source": [
    "Предположение о том, что у пациентов с ИМТ выше нормы будет повышенный уровень холестирина оказалось неверным. У пациентов с ИМТ выше нормы уровень холестирина ниже чем у пациентов с ИМТ ниже нормы"
   ]
  },
  {
   "cell_type": "markdown",
   "metadata": {},
   "source": [
    "## 3.5 Верно ли, что даже без хронических болезней почек с возрастом толщина паренхимы почек уменьшается?"
   ]
  },
  {
   "cell_type": "code",
   "execution_count": 117,
   "metadata": {},
   "outputs": [
    {
     "data": {
      "text/html": [
       "<div>\n",
       "<style scoped>\n",
       "    .dataframe tbody tr th:only-of-type {\n",
       "        vertical-align: middle;\n",
       "    }\n",
       "\n",
       "    .dataframe tbody tr th {\n",
       "        vertical-align: top;\n",
       "    }\n",
       "\n",
       "    .dataframe thead th {\n",
       "        text-align: right;\n",
       "    }\n",
       "</style>\n",
       "<table border=\"1\" class=\"dataframe\">\n",
       "  <thead>\n",
       "    <tr style=\"text-align: right;\">\n",
       "      <th></th>\n",
       "      <th>возраст</th>\n",
       "      <th>толщина_паренхимы_почек</th>\n",
       "    </tr>\n",
       "  </thead>\n",
       "  <tbody>\n",
       "    <tr>\n",
       "      <th>2</th>\n",
       "      <td>50</td>\n",
       "      <td>17.0</td>\n",
       "    </tr>\n",
       "    <tr>\n",
       "      <th>5</th>\n",
       "      <td>60</td>\n",
       "      <td>19.0</td>\n",
       "    </tr>\n",
       "    <tr>\n",
       "      <th>11</th>\n",
       "      <td>60</td>\n",
       "      <td>16.0</td>\n",
       "    </tr>\n",
       "    <tr>\n",
       "      <th>12</th>\n",
       "      <td>57</td>\n",
       "      <td>15.0</td>\n",
       "    </tr>\n",
       "    <tr>\n",
       "      <th>16</th>\n",
       "      <td>40</td>\n",
       "      <td>15.0</td>\n",
       "    </tr>\n",
       "  </tbody>\n",
       "</table>\n",
       "</div>"
      ],
      "text/plain": [
       "    возраст  толщина_паренхимы_почек\n",
       "2        50                     17.0\n",
       "5        60                     19.0\n",
       "11       60                     16.0\n",
       "12       57                     15.0\n",
       "16       40                     15.0"
      ]
     },
     "execution_count": 117,
     "metadata": {},
     "output_type": "execute_result"
    }
   ],
   "source": [
    "without_chronic_kidney = data[data[\"хбп\"] == \"Пациенты без ХБП\"][['возраст', 'толщина_паренхимы_почек']]\n",
    "without_chronic_kidney.head(5)"
   ]
  },
  {
   "cell_type": "code",
   "execution_count": 118,
   "metadata": {},
   "outputs": [
    {
     "data": {
      "text/html": [
       "<div>\n",
       "<style scoped>\n",
       "    .dataframe tbody tr th:only-of-type {\n",
       "        vertical-align: middle;\n",
       "    }\n",
       "\n",
       "    .dataframe tbody tr th {\n",
       "        vertical-align: top;\n",
       "    }\n",
       "\n",
       "    .dataframe thead th {\n",
       "        text-align: right;\n",
       "    }\n",
       "</style>\n",
       "<table border=\"1\" class=\"dataframe\">\n",
       "  <thead>\n",
       "    <tr style=\"text-align: right;\">\n",
       "      <th></th>\n",
       "      <th>возраст</th>\n",
       "      <th>толщина_паренхимы_почек</th>\n",
       "      <th>возрастная_группа</th>\n",
       "    </tr>\n",
       "  </thead>\n",
       "  <tbody>\n",
       "    <tr>\n",
       "      <th>2</th>\n",
       "      <td>50</td>\n",
       "      <td>17.0</td>\n",
       "      <td>50-60</td>\n",
       "    </tr>\n",
       "    <tr>\n",
       "      <th>5</th>\n",
       "      <td>60</td>\n",
       "      <td>19.0</td>\n",
       "      <td>60-70</td>\n",
       "    </tr>\n",
       "    <tr>\n",
       "      <th>11</th>\n",
       "      <td>60</td>\n",
       "      <td>16.0</td>\n",
       "      <td>60-70</td>\n",
       "    </tr>\n",
       "    <tr>\n",
       "      <th>12</th>\n",
       "      <td>57</td>\n",
       "      <td>15.0</td>\n",
       "      <td>50-60</td>\n",
       "    </tr>\n",
       "    <tr>\n",
       "      <th>16</th>\n",
       "      <td>40</td>\n",
       "      <td>15.0</td>\n",
       "      <td>40-50</td>\n",
       "    </tr>\n",
       "  </tbody>\n",
       "</table>\n",
       "</div>"
      ],
      "text/plain": [
       "    возраст  толщина_паренхимы_почек возрастная_группа\n",
       "2        50                     17.0             50-60\n",
       "5        60                     19.0             60-70\n",
       "11       60                     16.0             60-70\n",
       "12       57                     15.0             50-60\n",
       "16       40                     15.0             40-50"
      ]
     },
     "execution_count": 118,
     "metadata": {},
     "output_type": "execute_result"
    }
   ],
   "source": [
    "def _age_categorizer(age: int) -> str:\n",
    "    if 10 <= age < 20:\n",
    "        return \"10-20\"\n",
    "    elif 20 <= age < 30:\n",
    "        return \"20-30\"\n",
    "    if 30 <= age < 40:\n",
    "        return \"30-40\"\n",
    "    elif 40 <= age < 50:\n",
    "        return \"40-50\"\n",
    "    elif 50 <= age < 60:\n",
    "        return \"50-60\"\n",
    "    elif 60 <= age < 70:\n",
    "        return \"60-70\"\n",
    "    elif 70 <= age < 80:\n",
    "        return \"70-80\"\n",
    "    elif 80 <= age < 90:\n",
    "        return \"80-90\"\n",
    "\n",
    "without_chronic_kidney['возрастная_группа'] = without_chronic_kidney['возраст'].apply(_age_categorizer)\n",
    "without_chronic_kidney.head(5)"
   ]
  },
  {
   "cell_type": "code",
   "execution_count": 119,
   "metadata": {},
   "outputs": [
    {
     "data": {
      "text/plain": [
       "возрастная_группа\n",
       "30-40    16.7\n",
       "40-50    15.5\n",
       "50-60    15.4\n",
       "60-70    15.2\n",
       "70-80    15.1\n",
       "Name: толщина_паренхимы_почек, dtype: float64"
      ]
     },
     "execution_count": 119,
     "metadata": {},
     "output_type": "execute_result"
    }
   ],
   "source": [
    "average_thickness_by_age = without_chronic_kidney.groupby(\"возрастная_группа\")[\"толщина_паренхимы_почек\"].mean().round(1)\n",
    "average_thickness_by_age"
   ]
  },
  {
   "cell_type": "markdown",
   "metadata": {},
   "source": [
    "Утверждение, что с возрастом толщина паренхимы почек уменшаеться, оказалось неверным. "
   ]
  },
  {
   "cell_type": "markdown",
   "metadata": {
    "id": "nkVXtWLFDNNq"
   },
   "source": [
    "## 3.6 Проверить адекватность поставленного диагноза по стадии хронической болезни почек (найти параметр, по которому ставится диагноз, использовать данные из внешних источников)"
   ]
  },
  {
   "cell_type": "code",
   "execution_count": 120,
   "metadata": {},
   "outputs": [],
   "source": [
    "def make_prediction_to_diagnosis(skf):\n",
    "    # устанавливаем стадию хбп у пациента\n",
    "    if g1[0] <= skf <= g1[1]:\n",
    "        return \"Стадия C1-C2\"\n",
    "    elif g2[1] < skf < g1[0]:\n",
    "        return \"Стадия C1-С2\"\n",
    "    elif skf <= g2[1]:\n",
    "        return \"Стадия C3\"\n",
    "    return \"Пациенты без ХБП\"\n",
    "\n",
    "\n",
    "def check_diagnosis(cols):\n",
    "    # проверяем адекватность поставлxенного диагноза\n",
    "    vals = cols.values\n",
    "    if vals[0] == vals[1]:\n",
    "        return \"Диагноз поставлен правильно\"\n",
    "    return \"Диагноз возможно поставлен некорректно\""
   ]
  },
  {
   "cell_type": "code",
   "execution_count": 121,
   "metadata": {
    "colab": {
     "base_uri": "https://localhost:8080/"
    },
    "id": "JsCb6wKyDtvb",
    "outputId": "e2473570-7710-4b07-8064-32ec8363a878"
   },
   "outputs": [
    {
     "data": {
      "text/html": [
       "<div>\n",
       "<style scoped>\n",
       "    .dataframe tbody tr th:only-of-type {\n",
       "        vertical-align: middle;\n",
       "    }\n",
       "\n",
       "    .dataframe tbody tr th {\n",
       "        vertical-align: top;\n",
       "    }\n",
       "\n",
       "    .dataframe thead th {\n",
       "        text-align: right;\n",
       "    }\n",
       "</style>\n",
       "<table border=\"1\" class=\"dataframe\">\n",
       "  <thead>\n",
       "    <tr style=\"text-align: right;\">\n",
       "      <th></th>\n",
       "      <th>адекватность_диагноза</th>\n",
       "      <th>хбп</th>\n",
       "    </tr>\n",
       "  </thead>\n",
       "  <tbody>\n",
       "    <tr>\n",
       "      <th>1</th>\n",
       "      <td>Диагноз возможно поставлен некорректно</td>\n",
       "      <td>Стадия C1-C2</td>\n",
       "    </tr>\n",
       "    <tr>\n",
       "      <th>4</th>\n",
       "      <td>Диагноз поставлен правильно</td>\n",
       "      <td>Стадия C1-C2</td>\n",
       "    </tr>\n",
       "    <tr>\n",
       "      <th>6</th>\n",
       "      <td>Диагноз возможно поставлен некорректно</td>\n",
       "      <td>Стадия C1-C2</td>\n",
       "    </tr>\n",
       "    <tr>\n",
       "      <th>8</th>\n",
       "      <td>Диагноз поставлен правильно</td>\n",
       "      <td>Стадия C1-C2</td>\n",
       "    </tr>\n",
       "    <tr>\n",
       "      <th>10</th>\n",
       "      <td>Диагноз поставлен правильно</td>\n",
       "      <td>Стадия C1-C2</td>\n",
       "    </tr>\n",
       "    <tr>\n",
       "      <th>13</th>\n",
       "      <td>Диагноз поставлен правильно</td>\n",
       "      <td>Стадия C1-C2</td>\n",
       "    </tr>\n",
       "    <tr>\n",
       "      <th>15</th>\n",
       "      <td>Диагноз возможно поставлен некорректно</td>\n",
       "      <td>Стадия C1-C2</td>\n",
       "    </tr>\n",
       "    <tr>\n",
       "      <th>16</th>\n",
       "      <td>Диагноз возможно поставлен некорректно</td>\n",
       "      <td>Пациенты без ХБП</td>\n",
       "    </tr>\n",
       "    <tr>\n",
       "      <th>17</th>\n",
       "      <td>Диагноз поставлен правильно</td>\n",
       "      <td>Стадия C1-C2</td>\n",
       "    </tr>\n",
       "    <tr>\n",
       "      <th>19</th>\n",
       "      <td>Диагноз поставлен правильно</td>\n",
       "      <td>Стадия C1-C2</td>\n",
       "    </tr>\n",
       "  </tbody>\n",
       "</table>\n",
       "</div>"
      ],
      "text/plain": [
       "                     адекватность_диагноза               хбп\n",
       "1   Диагноз возможно поставлен некорректно      Стадия C1-C2\n",
       "4              Диагноз поставлен правильно      Стадия C1-C2\n",
       "6   Диагноз возможно поставлен некорректно      Стадия C1-C2\n",
       "8              Диагноз поставлен правильно      Стадия C1-C2\n",
       "10             Диагноз поставлен правильно      Стадия C1-C2\n",
       "13             Диагноз поставлен правильно      Стадия C1-C2\n",
       "15  Диагноз возможно поставлен некорректно      Стадия C1-C2\n",
       "16  Диагноз возможно поставлен некорректно  Пациенты без ХБП\n",
       "17             Диагноз поставлен правильно      Стадия C1-C2\n",
       "19             Диагноз поставлен правильно      Стадия C1-C2"
      ]
     },
     "execution_count": 121,
     "metadata": {},
     "output_type": "execute_result"
    }
   ],
   "source": [
    "pred_data = data[['развитие_опп', 'хбп', 'скф_расч']]\n",
    "pred_data = pred_data[pred_data['развитие_опп'] == 'есть']  # удаляем всех пациентов у которых нет опп\n",
    "\n",
    "# узнаем примерные рамки параметра скф по поставленной стадии\n",
    "d = round(pred_data.groupby(['хбп']).agg({'скф_расч': 'describe'})['скф_расч'], 2)\n",
    "twenty_five = d['25%'].values\n",
    "mean = d['mean'].values\n",
    "seventy_five = d['75%'].values\n",
    "\n",
    "g1 = [twenty_five[0], seventy_five[0]]\n",
    "g2 = [twenty_five[1], seventy_five[1]]\n",
    "\n",
    "# делаем колонку предположительного диагноза\n",
    "pred_data['предположительный_диагноз'] = pred_data['скф_расч'].apply(lambda x: make_prediction_to_diagnosis(x))\n",
    "# сравниваем колонку преположительного диагноза и хбп.\n",
    "# Если диагноз подтверждается: Диагноз поставлен правильно\n",
    "# Иначе: Диагноз возможно поставлен некорректно\n",
    "pred_data['адекватность_диагноза'] = pred_data[['предположительный_диагноз', 'хбп']].apply(lambda x: check_diagnosis(x), axis=1)\n",
    "\n",
    "pred_data[['адекватность_диагноза', 'хбп']].head(10)"
   ]
  },
  {
   "cell_type": "markdown",
   "metadata": {
    "id": "gbl-0DhdEKaY"
   },
   "source": [
    "## 3.7 Исследовать корреляцию между параметрами. Для наиболее сильных корреляций обосновать, имеет ли это реальный смысл или же просто особенность данных"
   ]
  },
  {
   "cell_type": "code",
   "execution_count": 122,
   "metadata": {},
   "outputs": [],
   "source": [
    "def chi2_counting(first_cat, second_cat):\n",
    "    # функция для подсчёта корреляции номинальных данных с номинальными\n",
    "\n",
    "    temp_table = pd.crosstab(data[first_cat], data[second_cat])\n",
    "    chi_2 = stats.chi2_contingency(temp_table)\n",
    "    return chi_2.statistic, chi_2.pvalue\n",
    "\n",
    "\n",
    "def mannwhitneyu_counting(first_cat, second_cat):\n",
    "    # функция для подсчёта корреляции количественных данных с номинальными\n",
    "\n",
    "    mn = stats.mannwhitneyu(first_cat, second_cat)\n",
    "    cor, p_value = mn.statistic, mn.pvalue\n",
    "    return cor, p_value\n",
    "\n",
    "\n",
    "def pearsonr_counting(first_cat, second_cat):\n",
    "    # функция для подсчёта корреляции количественных данных с количественными (с нормальным распределением данных)\n",
    "\n",
    "    pr = stats.pearsonr(first_cat, second_cat)\n",
    "    cor, p_value = pr.statistic, pr.pvalue\n",
    "    return cor, p_value\n",
    "\n",
    "\n",
    "def spearmanr_counting(first_cat, second_cat):\n",
    "    # функция для подсчёта корреляции количественных данных с количественными (с ненормальным распределением данных)\n",
    "\n",
    "    sp = stats.spearmanr(first_cat, second_cat)\n",
    "    cor, p_value = sp.statistic, sp.pvalue\n",
    "    return cor, p_value"
   ]
  },
  {
   "cell_type": "code",
   "execution_count": 128,
   "metadata": {},
   "outputs": [],
   "source": [
    "nominal = [\n",
    "    \"развитие_опп\",\n",
    "    \"пол\",\n",
    "    \"гб\",\n",
    "    \"сахарный_диабет\",\n",
    "    \"стенокардия\",\n",
    "    \"инфаркт_миокарда\",\n",
    "    \"мерцательная_аритмия\",\n",
    "    \"желудочковая_экстрасистолия\",\n",
    "    \"а-в_блокада\",\n",
    "    \"блокада_ножек_пучка_гиса\",\n",
    "    \"хсн\",\n",
    "    \"нк\",\n",
    "    \"ар\",\n",
    "    \"аик\",\n",
    "    \"хбп\",\n",
    "    \"имт_группа\",\n",
    "]"
   ]
  },
  {
   "cell_type": "code",
   "execution_count": 130,
   "metadata": {},
   "outputs": [
    {
     "data": {
      "text/html": [
       "<div>\n",
       "<style scoped>\n",
       "    .dataframe tbody tr th:only-of-type {\n",
       "        vertical-align: middle;\n",
       "    }\n",
       "\n",
       "    .dataframe tbody tr th {\n",
       "        vertical-align: top;\n",
       "    }\n",
       "\n",
       "    .dataframe thead th {\n",
       "        text-align: right;\n",
       "    }\n",
       "</style>\n",
       "<table border=\"1\" class=\"dataframe\">\n",
       "  <thead>\n",
       "    <tr style=\"text-align: right;\">\n",
       "      <th></th>\n",
       "      <th>Показатель №1</th>\n",
       "      <th>Показатель №2</th>\n",
       "      <th>Значение корреляции</th>\n",
       "      <th>p-уровень</th>\n",
       "    </tr>\n",
       "  </thead>\n",
       "  <tbody>\n",
       "    <tr>\n",
       "      <th>0</th>\n",
       "      <td>мо</td>\n",
       "      <td>уо</td>\n",
       "      <td>0.99</td>\n",
       "      <td>0.0</td>\n",
       "    </tr>\n",
       "    <tr>\n",
       "      <th>1</th>\n",
       "      <td>общ.со2</td>\n",
       "      <td>нсо3</td>\n",
       "      <td>0.98</td>\n",
       "      <td>0.0</td>\n",
       "    </tr>\n",
       "    <tr>\n",
       "      <th>2</th>\n",
       "      <td>дд_лж</td>\n",
       "      <td>кдо</td>\n",
       "      <td>0.93</td>\n",
       "      <td>0.0</td>\n",
       "    </tr>\n",
       "    <tr>\n",
       "      <th>3</th>\n",
       "      <td>ксо</td>\n",
       "      <td>сд_лж</td>\n",
       "      <td>0.93</td>\n",
       "      <td>0.0</td>\n",
       "    </tr>\n",
       "    <tr>\n",
       "      <th>4</th>\n",
       "      <td>время_пережатия_аорты</td>\n",
       "      <td>длительность_аик</td>\n",
       "      <td>0.89</td>\n",
       "      <td>0.0</td>\n",
       "    </tr>\n",
       "  </tbody>\n",
       "</table>\n",
       "</div>"
      ],
      "text/plain": [
       "           Показатель №1     Показатель №2  Значение корреляции  p-уровень\n",
       "0                     мо                уо                 0.99        0.0\n",
       "1                общ.со2              нсо3                 0.98        0.0\n",
       "2                  дд_лж               кдо                 0.93        0.0\n",
       "3                    ксо             сд_лж                 0.93        0.0\n",
       "4  время_пережатия_аорты  длительность_аик                 0.89        0.0"
      ]
     },
     "execution_count": 130,
     "metadata": {},
     "output_type": "execute_result"
    }
   ],
   "source": [
    "answer = list()\n",
    "\n",
    "for first_cat, second_cat in itertools.combinations(set(data.columns), 2):\n",
    "    g1 = data[first_cat]\n",
    "    g2 = data[second_cat]\n",
    "    if first_cat in nominal and second_cat in nominal:\n",
    "        # высчитывание корреляции для номинальные-номинальные\n",
    "        cor, p_value = chi2_counting(first_cat, second_cat)\n",
    "        answer.append([first_cat, second_cat, round(cor, 2), round(p_value, 3)])\n",
    "    elif (\n",
    "        first_cat in nominal\n",
    "        and second_cat not in nominal\n",
    "        or first_cat not in nominal\n",
    "        and second_cat in nominal\n",
    "    ):\n",
    "        # высчитывание корреляции для количественные-номинальные\n",
    "        try:\n",
    "            cor, p_value = mannwhitneyu_counting(g1, g2)\n",
    "            answer.append(\n",
    "                [first_cat, second_cat, round(cor, 2), round(p_value, 3)]\n",
    "            )\n",
    "        except TypeError:\n",
    "            pass\n",
    "    else:\n",
    "        # высчитывание корреляции для количественные-количественные\n",
    "        if stats.shapiro(g1).pvalue >= 0.05 and stats.shapiro(g2).pvalue >= 0.05:\n",
    "            # Данные распределены нормально\n",
    "            cor, p_value = pearsonr_counting(g1, g2)\n",
    "            answer.append(\n",
    "                [first_cat, second_cat, round(cor, 2), round(p_value, 3)]\n",
    "            )\n",
    "        else:\n",
    "            # Данные распределены ненормально\n",
    "            cor, p_value = spearmanr_counting(g1, g2)\n",
    "            answer.append(\n",
    "                [first_cat, second_cat, round(cor, 2), round(p_value, 3)]\n",
    "            )\n",
    "\n",
    "# фильтруем данные\n",
    "new_answer = list()\n",
    "for result in answer:\n",
    "    if result[-2] != 0 and -1 <= result[-2] <= 1 and result[-1] <= 0.05:\n",
    "        new_answer.append(result)\n",
    "\n",
    "answer_df = pd.DataFrame(\n",
    "    data=sorted(new_answer, key=lambda x: x[-2], reverse=True),\n",
    "    columns=[\"Показатель №1\", \"Показатель №2\", \"Значение корреляции\", \"p-уровень\"],\n",
    ")\n",
    "\n",
    "answer_df.head(5)"
   ]
  },
  {
   "cell_type": "markdown",
   "metadata": {
    "id": "961FMzvsEgmH"
   },
   "source": [
    "p-уровень=0:\n",
    "Утверждение о том, что корреляции получены неслучайно.\n",
    "\n",
    "**1. Минутный объём сердца (МО) и Ударный объём сердца (УО)**:\\\n",
    "МО полностью зависит от УО по определению.\n",
    "\n",
    "**2. Общий уровень углекислого газа (Общ.СО2) и бикарбонат (НСО3)**:\\\n",
    "НСО3 состоит из СО2, поэтому это также особенность данных.\n",
    "\n",
    "**3. Диастолическая дисфункция левого желудочка (ДД_ЛЖ) и Конечный диастолический объём (КДО):**\\\n",
    "Конечный диастолический объём напрямую зависит от диастолической дисфункции левого желудочка по определению. Корреляция в 0.93, а не 1, может объясняться влиянием других факторов, таких как Систолическая дисфункция левого желудочка (СД_ЛЖ).\n",
    "\n",
    "**4. Конечный систолический объём (КСО) и Систолическая дисфункция левого желудочка (СД_ЛЖ):**\\\n",
    "Та же причина, что и в предыдущем пункте.\n",
    "\n",
    "**5. Время пережатия аорты и Длительность аортального искусственного кровообращения (Длительность АИК):**\\\n",
    "При пережатии аорты кровь не циркулирует, что требует наличия аппарата искусственного кровообращения. Почему корреляция равна 0.89, а не 1, возможно, объясняется воздействием других факторов."
   ]
  }
 ],
 "metadata": {
  "colab": {
   "provenance": [],
   "toc_visible": true
  },
  "kernelspec": {
   "display_name": "Python 3",
   "name": "python3"
  },
  "language_info": {
   "codemirror_mode": {
    "name": "ipython",
    "version": 3
   },
   "file_extension": ".py",
   "mimetype": "text/x-python",
   "name": "python",
   "nbconvert_exporter": "python",
   "pygments_lexer": "ipython3",
   "version": "3.11.4"
  }
 },
 "nbformat": 4,
 "nbformat_minor": 0
}
