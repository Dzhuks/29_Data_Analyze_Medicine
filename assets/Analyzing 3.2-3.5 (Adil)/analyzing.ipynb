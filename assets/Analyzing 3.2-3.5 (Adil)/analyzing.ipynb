{
 "cells": [
  {
   "cell_type": "markdown",
   "metadata": {},
   "source": [
    "# Пункт 3 - Проведение расчётов и исследований\n",
    "В этом ноутбуке представлено решение задач 2-5 из третьего путнкта"
   ]
  },
  {
   "cell_type": "code",
   "execution_count": 2,
   "metadata": {},
   "outputs": [],
   "source": [
    "import pandas as pd\n",
    "import numpy as np\n",
    "from scipy import stats\n",
    "\n",
    "import matplotlib.pyplot as plt\n",
    "import seaborn as sns"
   ]
  },
  {
   "cell_type": "markdown",
   "metadata": {},
   "source": [
    "# Загрузка обработанных данных"
   ]
  },
  {
   "cell_type": "code",
   "execution_count": 3,
   "metadata": {},
   "outputs": [
    {
     "data": {
      "text/html": [
       "<div>\n",
       "<style scoped>\n",
       "    .dataframe tbody tr th:only-of-type {\n",
       "        vertical-align: middle;\n",
       "    }\n",
       "\n",
       "    .dataframe tbody tr th {\n",
       "        vertical-align: top;\n",
       "    }\n",
       "\n",
       "    .dataframe thead th {\n",
       "        text-align: right;\n",
       "    }\n",
       "</style>\n",
       "<table border=\"1\" class=\"dataframe\">\n",
       "  <thead>\n",
       "    <tr style=\"text-align: right;\">\n",
       "      <th></th>\n",
       "      <th>развитие_опп</th>\n",
       "      <th>хбп</th>\n",
       "      <th>возраст</th>\n",
       "      <th>пол</th>\n",
       "      <th>гб</th>\n",
       "      <th>сахарный_диабет</th>\n",
       "      <th>стенокардия</th>\n",
       "      <th>инфаркт_миокарда</th>\n",
       "      <th>мерцательная_аритмия</th>\n",
       "      <th>желудочковая_экстрасистолия</th>\n",
       "      <th>...</th>\n",
       "      <th>толщина_паренхимы_почек</th>\n",
       "      <th>аик</th>\n",
       "      <th>количество_шунтов</th>\n",
       "      <th>длительность_операции</th>\n",
       "      <th>длительность_аик</th>\n",
       "      <th>время_пережатия_аорты</th>\n",
       "      <th>объем_кровопотерии</th>\n",
       "      <th>объем_гемотрансфузии</th>\n",
       "      <th>объем_инфузий</th>\n",
       "      <th>диурез</th>\n",
       "    </tr>\n",
       "  </thead>\n",
       "  <tbody>\n",
       "    <tr>\n",
       "      <th>0</th>\n",
       "      <td>нет</td>\n",
       "      <td>Стадия C1-C2</td>\n",
       "      <td>67</td>\n",
       "      <td>1</td>\n",
       "      <td>1</td>\n",
       "      <td>1</td>\n",
       "      <td>1</td>\n",
       "      <td>1</td>\n",
       "      <td>0</td>\n",
       "      <td>0</td>\n",
       "      <td>...</td>\n",
       "      <td>14.0</td>\n",
       "      <td>0</td>\n",
       "      <td>1</td>\n",
       "      <td>150.0</td>\n",
       "      <td>0.0</td>\n",
       "      <td>0.0</td>\n",
       "      <td>200.0</td>\n",
       "      <td>830.0</td>\n",
       "      <td>1200.0</td>\n",
       "      <td>900.0</td>\n",
       "    </tr>\n",
       "    <tr>\n",
       "      <th>1</th>\n",
       "      <td>есть</td>\n",
       "      <td>Стадия C1-C2</td>\n",
       "      <td>69</td>\n",
       "      <td>1</td>\n",
       "      <td>1</td>\n",
       "      <td>0</td>\n",
       "      <td>1</td>\n",
       "      <td>0</td>\n",
       "      <td>0</td>\n",
       "      <td>0</td>\n",
       "      <td>...</td>\n",
       "      <td>15.0</td>\n",
       "      <td>1</td>\n",
       "      <td>4</td>\n",
       "      <td>235.0</td>\n",
       "      <td>143.0</td>\n",
       "      <td>48.0</td>\n",
       "      <td>600.0</td>\n",
       "      <td>640.0</td>\n",
       "      <td>900.0</td>\n",
       "      <td>800.0</td>\n",
       "    </tr>\n",
       "    <tr>\n",
       "      <th>2</th>\n",
       "      <td>нет</td>\n",
       "      <td>Пациенты без ХБП</td>\n",
       "      <td>50</td>\n",
       "      <td>1</td>\n",
       "      <td>1</td>\n",
       "      <td>0</td>\n",
       "      <td>1</td>\n",
       "      <td>1</td>\n",
       "      <td>0</td>\n",
       "      <td>0</td>\n",
       "      <td>...</td>\n",
       "      <td>17.0</td>\n",
       "      <td>0</td>\n",
       "      <td>1</td>\n",
       "      <td>210.0</td>\n",
       "      <td>0.0</td>\n",
       "      <td>0.0</td>\n",
       "      <td>250.0</td>\n",
       "      <td>0.0</td>\n",
       "      <td>1800.0</td>\n",
       "      <td>500.0</td>\n",
       "    </tr>\n",
       "    <tr>\n",
       "      <th>3</th>\n",
       "      <td>нет</td>\n",
       "      <td>Стадия C1-C2</td>\n",
       "      <td>62</td>\n",
       "      <td>1</td>\n",
       "      <td>1</td>\n",
       "      <td>0</td>\n",
       "      <td>1</td>\n",
       "      <td>1</td>\n",
       "      <td>1</td>\n",
       "      <td>0</td>\n",
       "      <td>...</td>\n",
       "      <td>16.0</td>\n",
       "      <td>1</td>\n",
       "      <td>3</td>\n",
       "      <td>210.0</td>\n",
       "      <td>71.0</td>\n",
       "      <td>43.0</td>\n",
       "      <td>500.0</td>\n",
       "      <td>1283.0</td>\n",
       "      <td>1700.0</td>\n",
       "      <td>1700.0</td>\n",
       "    </tr>\n",
       "    <tr>\n",
       "      <th>4</th>\n",
       "      <td>есть</td>\n",
       "      <td>Стадия C1-C2</td>\n",
       "      <td>55</td>\n",
       "      <td>1</td>\n",
       "      <td>1</td>\n",
       "      <td>1</td>\n",
       "      <td>1</td>\n",
       "      <td>1</td>\n",
       "      <td>0</td>\n",
       "      <td>0</td>\n",
       "      <td>...</td>\n",
       "      <td>15.0</td>\n",
       "      <td>1</td>\n",
       "      <td>3</td>\n",
       "      <td>265.0</td>\n",
       "      <td>116.0</td>\n",
       "      <td>74.0</td>\n",
       "      <td>500.0</td>\n",
       "      <td>1560.0</td>\n",
       "      <td>1800.0</td>\n",
       "      <td>1300.0</td>\n",
       "    </tr>\n",
       "  </tbody>\n",
       "</table>\n",
       "<p>5 rows × 67 columns</p>\n",
       "</div>"
      ],
      "text/plain": [
       "  развитие_опп               хбп  возраст  пол  гб  сахарный_диабет  \\\n",
       "0          нет      Стадия C1-C2       67    1   1                1   \n",
       "1         есть      Стадия C1-C2       69    1   1                0   \n",
       "2          нет  Пациенты без ХБП       50    1   1                0   \n",
       "3          нет      Стадия C1-C2       62    1   1                0   \n",
       "4         есть      Стадия C1-C2       55    1   1                1   \n",
       "\n",
       "   стенокардия  инфаркт_миокарда  мерцательная_аритмия  \\\n",
       "0            1                 1                     0   \n",
       "1            1                 0                     0   \n",
       "2            1                 1                     0   \n",
       "3            1                 1                     1   \n",
       "4            1                 1                     0   \n",
       "\n",
       "   желудочковая_экстрасистолия  ...  толщина_паренхимы_почек  аик  \\\n",
       "0                            0  ...                     14.0    0   \n",
       "1                            0  ...                     15.0    1   \n",
       "2                            0  ...                     17.0    0   \n",
       "3                            0  ...                     16.0    1   \n",
       "4                            0  ...                     15.0    1   \n",
       "\n",
       "   количество_шунтов  длительность_операции  длительность_аик  \\\n",
       "0                  1                  150.0               0.0   \n",
       "1                  4                  235.0             143.0   \n",
       "2                  1                  210.0               0.0   \n",
       "3                  3                  210.0              71.0   \n",
       "4                  3                  265.0             116.0   \n",
       "\n",
       "   время_пережатия_аорты  объем_кровопотерии  объем_гемотрансфузии  \\\n",
       "0                    0.0               200.0                 830.0   \n",
       "1                   48.0               600.0                 640.0   \n",
       "2                    0.0               250.0                   0.0   \n",
       "3                   43.0               500.0                1283.0   \n",
       "4                   74.0               500.0                1560.0   \n",
       "\n",
       "   объем_инфузий  диурез  \n",
       "0         1200.0   900.0  \n",
       "1          900.0   800.0  \n",
       "2         1800.0   500.0  \n",
       "3         1700.0  1700.0  \n",
       "4         1800.0  1300.0  \n",
       "\n",
       "[5 rows x 67 columns]"
      ]
     },
     "execution_count": 3,
     "metadata": {},
     "output_type": "execute_result"
    }
   ],
   "source": [
    "data = pd.read_csv(r\"../content/processed_data.csv\", encoding='cp1251')\n",
    "data.head()"
   ]
  },
  {
   "cell_type": "markdown",
   "metadata": {},
   "source": [
    "# 3.2 Ввести новый фактор (описать и обосновать выбор фактора и его значений) на основе столбца “Индекс массы тела”. \n",
    "*Посчитать количество пациентов, имеющих проблемы с сердцем (выбор перечня проблем должен быть описан и обоснован) для каждой группы. Сделать вывод*\n"
   ]
  },
  {
   "cell_type": "markdown",
   "metadata": {},
   "source": [
    "Для столбца \"Индекс массы тела\" был введен новый фактор \"имт_группа\". Этот параметр выбран в соответствии с рекомендациями Всемирной организации здравоохранения (ВОЗ) и базируется на следующей интерпретации значений ИМТ[2]:\n",
    "\n",
    "|Индекс массы тела | Соответствие между массой человека и его ростом|\n",
    "| ----------- | ----------- |\n",
    "|16 и менее|\tВыраженный дефицит массы тела|\n",
    "|16—18,5|\tНедостаточная (дефицит) масса тела|\n",
    "|18,5—25|\tНорма|\n",
    "|25—30|\tИзбыточная масса тела (предожирение)|\n",
    "|30—35|\tОжирение 1 степени|\n",
    "|35—40|\tОжирение 2 степени|\n",
    "|40 и более|\tОжирение 3 степени|\n",
    "\n",
    "(ссылка на статью в Википедии - https://ru.wikipedia.org/wiki/%D0%98%D0%BD%D0%B4%D0%B5%D0%BA%D1%81_%D0%BC%D0%B0%D1%81%D1%81%D1%8B_%D1%82%D0%B5%D0%BB%D0%B0)."
   ]
  },
  {
   "cell_type": "code",
   "execution_count": null,
   "metadata": {
    "is_executing": true
   },
   "outputs": [],
   "source": [
    "def _bmi_categorizer(bmi: float) -> str:\n",
    "    if bmi <= 16.0:\n",
    "        return \"Выраженный дефицит массы тела\"\n",
    "    if bmi < 18.5:\n",
    "        return \"Недостаточная (дефицит) масса тела\"\n",
    "    if bmi < 25:\n",
    "        return \"Норма\"\n",
    "    if bmi < 30:\n",
    "        return \"Избыточная масса тела (предожирение)\"\n",
    "    if bmi < 35:\n",
    "        return \"Ожирение 1 степени\"\n",
    "    if bmi < 40:\n",
    "        return \"Ожирение 2 степени\"\n",
    "    return \"Ожирение 3 степени\"\n",
    "\n",
    "\n",
    "data['имт_группа'] = data['имт'].apply(_bmi_categorizer)\n",
    "data['имт_группа'].head(5)"
   ]
  },
  {
   "cell_type": "markdown",
   "metadata": {},
   "source": [
    "1. **гб (Гипортоническая болезнь)** - патология сердца и сосудов, проявляющаяся повышением артериального давления\n",
    "2. **стенокардия** - это болевой синдром в грудной клетке, одно из проявлений ишемической болезни сердца (ИБС)\n",
    "3. **инфаркт_миокарда** - серде́чный при́ступ возникает из-за полной или частичной блокировки артерии, питающей сердце\n",
    "4. **мерцательная_аритмия** - нарушение сердечного ритма, характеризующееся хаотическим, нерегулярным сокращением миокарда\n",
    "5. **желудочковая_экстрасистолия** - нарушение сердечного ритма, характеризующееся хаотическим, нерегулярным сокращением миокарда предсердий\n",
    "6. **а-в_блокада** - частичное или полное прерывание проведения импульса от предсердий к желудочкам. Наиболее частой причиной является идиопатический фиброз или склероз проводящей системы сердца.\n",
    "7. **блокада_ножек_пучка_гиса** - нарушение внутрисердечной проводимости, характеризующееся замедлением или полным прекращением проведения импульсов возбуждения по одной или нескольким ветвям пучка Гиса\n",
    "8. **хсн** (хроническая сердечная недостаточность) - Когда сердце не обеспечивает достаточное кровоснабжение организма, это вызывает отеки и кислородное голодание тканей и внутренних органов.\n",
    "9. **нк** (недостаточность кровообращения) - синдром, вызванный декомпенсированным нарушением функции миокарда (мышечная ткань сердечного типа)\n",
    "10. **аик** (наличие аппарата искусственного кровообращения) - когда серце уже не справляется со своими функциями"
   ]
  },
  {
   "cell_type": "code",
   "execution_count": 5,
   "metadata": {},
   "outputs": [],
   "source": [
    "heart_problem_columns = [\n",
    "    \"гб\",\n",
    "    \"стенокардия\",\n",
    "    \"инфаркт_миокарда\",\n",
    "    \"мерцательная_аритмия\",\n",
    "    \"желудочковая_экстрасистолия\",\n",
    "    \"а-в_блокада\",\n",
    "    \"блокада_ножек_пучка_гиса\",\n",
    "    \"хсн\",\n",
    "    \"нк\",\n",
    "    \"аик\",\n",
    "]"
   ]
  },
  {
   "cell_type": "code",
   "execution_count": 6,
   "metadata": {},
   "outputs": [
    {
     "data": {
      "text/plain": [
       "имт_группа                            имеет_сердечные_проблемы\n",
       "Избыточная масса тела (предожирение)  True                        109\n",
       "Норма                                 True                         18\n",
       "Ожирение 1 степени                    True                         56\n",
       "Ожирение 2 степени                    True                          3\n",
       "dtype: int64"
      ]
     },
     "execution_count": 6,
     "metadata": {},
     "output_type": "execute_result"
    }
   ],
   "source": [
    "data[\"имеет_сердечные_проблемы\"] = data[heart_problem_columns].any(axis=1)\n",
    "bpi_grouped_data = data.groupby([\"имт_группа\", \"имеет_сердечные_проблемы\"]).size()\n",
    "bpi_grouped_data"
   ]
  },
  {
   "cell_type": "markdown",
   "metadata": {},
   "source": [
    "Можно сказать, что все пациенты имеют сердечные проблемы так или иначе"
   ]
  },
  {
   "cell_type": "markdown",
   "metadata": {},
   "source": [
    "# 3.3 Зависимость длительности операции от факта перенесенного в прошлом инфаркта миокарда"
   ]
  },
  {
   "cell_type": "code",
   "execution_count": 19,
   "metadata": {},
   "outputs": [
    {
     "data": {
      "image/png": "[encoded data removed]",
      "text/plain": [
       "<Figure size 640x480 with 1 Axes>"
      ]
     },
     "metadata": {},
     "output_type": "display_data"
    }
   ],
   "source": [
    "ax = sns.boxplot(x=\"инфаркт_миокарда\", y=\"длительность_операции\", data=data)"
   ]
  },
  {
   "cell_type": "markdown",
   "metadata": {},
   "source": [
    "Хотя медиана и интерквартальных размах схожи в обоих \"ящиках с усами\", у второго графика немного выше первый квартиль и более выражен максимум по сравнению с первой графикой. Это указывает, что в целом распределение данных во втором графике смещено немного вверх, но на основе этого нельзя сделать вывод о зависимости длительности операции от факта перенесенного в прошлом инфаркта миокарда"
   ]
  },
  {
   "cell_type": "markdown",
   "metadata": {},
   "source": [
    "# 3.4 Верно ли, что у пациентов с ИМТ выше нормы будет повышенный уровень холестерина?\n"
   ]
  },
  {
   "cell_type": "markdown",
   "metadata": {},
   "source": [
    "Согласно ВОЗ норма ИМТ для человека для человека охватывает значения в пределах от 18,5 до 25. Для выделения пациентов с превышением нормы ИМТ мы сфокусируемся на тех, у кого ИМТ равен или превышает 25."
   ]
  },
  {
   "cell_type": "code",
   "execution_count": 20,
   "metadata": {},
   "outputs": [
    {
     "name": "stdout",
     "output_type": "stream",
     "text": [
      "4.838005952380952 4.92611111111111 4.846532258064515\n"
     ]
    }
   ],
   "source": [
    "high_imt = data[data[\"имт\"] >= 25]\n",
    "low_imt = data[data[\"имт\"] < 25]\n",
    "print(high_imt[\"холестерин\"].mean(), low_imt[\"холестерин\"].mean(), data['холестерин'].mean())"
   ]
  },
  {
   "cell_type": "markdown",
   "metadata": {},
   "source": [
    "# 3.5 Верно ли, что даже без хронических болезней почек с возрастом толщина паренхимы почек уменьшается"
   ]
  },
  {
   "cell_type": "code",
   "execution_count": 9,
   "metadata": {},
   "outputs": [],
   "source": [
    "chronic_illnesses_columns = [\n",
    "    \"сахарный_диабет\",\n",
    "    \"гб\",\n",
    "    \"хбп\",\n",
    "]"
   ]
  },
  {
   "cell_type": "code",
   "execution_count": 10,
   "metadata": {},
   "outputs": [
    {
     "data": {
      "text/html": [
       "<div>\n",
       "<style scoped>\n",
       "    .dataframe tbody tr th:only-of-type {\n",
       "        vertical-align: middle;\n",
       "    }\n",
       "\n",
       "    .dataframe tbody tr th {\n",
       "        vertical-align: top;\n",
       "    }\n",
       "\n",
       "    .dataframe thead th {\n",
       "        text-align: right;\n",
       "    }\n",
       "</style>\n",
       "<table border=\"1\" class=\"dataframe\">\n",
       "  <thead>\n",
       "    <tr style=\"text-align: right;\">\n",
       "      <th></th>\n",
       "      <th>возраст</th>\n",
       "      <th>толщина_паренхимы_почек</th>\n",
       "    </tr>\n",
       "  </thead>\n",
       "  <tbody>\n",
       "    <tr>\n",
       "      <th>29</th>\n",
       "      <td>62</td>\n",
       "      <td>18.0</td>\n",
       "    </tr>\n",
       "    <tr>\n",
       "      <th>58</th>\n",
       "      <td>61</td>\n",
       "      <td>15.0</td>\n",
       "    </tr>\n",
       "    <tr>\n",
       "      <th>75</th>\n",
       "      <td>63</td>\n",
       "      <td>18.0</td>\n",
       "    </tr>\n",
       "    <tr>\n",
       "      <th>110</th>\n",
       "      <td>56</td>\n",
       "      <td>17.0</td>\n",
       "    </tr>\n",
       "  </tbody>\n",
       "</table>\n",
       "</div>"
      ],
      "text/plain": [
       "     возраст  толщина_паренхимы_почек\n",
       "29        62                     18.0\n",
       "58        61                     15.0\n",
       "75        63                     18.0\n",
       "110       56                     17.0"
      ]
     },
     "execution_count": 10,
     "metadata": {},
     "output_type": "execute_result"
    }
   ],
   "source": [
    "without_chronic_illnesses = data[\n",
    "    (data[\"гб\"] == 0)\n",
    "    & (data[\"сахарный_диабет\"] == 0)\n",
    "    & (data[\"хбп\"] == \"Пациенты без ХБП\")\n",
    "]\n",
    "without_chronic_illnesses[['возраст', 'толщина_паренхимы_почек']]"
   ]
  },
  {
   "cell_type": "code",
   "execution_count": 12,
   "metadata": {},
   "outputs": [
    {
     "data": {
      "text/plain": [
       "возраст\n",
       "56    17.0\n",
       "61    15.0\n",
       "62    18.0\n",
       "63    18.0\n",
       "Name: толщина_паренхимы_почек, dtype: float64"
      ]
     },
     "execution_count": 12,
     "metadata": {},
     "output_type": "execute_result"
    }
   ],
   "source": [
    "average_thickness_by_age = without_chronic_illnesses.groupby(\"возраст\")[\"толщина_паренхимы_почек\"].mean()\n",
    "average_thickness_by_age"
   ]
  },
  {
   "cell_type": "markdown",
   "metadata": {},
   "source": [
    "Количество данных не позволяет нам сделать вывод."
   ]
  }
 ],
 "metadata": {
  "kernelspec": {
   "display_name": ".venv",
   "language": "python",
   "name": "python3"
  },
  "language_info": {
   "codemirror_mode": {
    "name": "ipython",
    "version": 3
   },
   "file_extension": ".py",
   "mimetype": "text/x-python",
   "name": "python",
   "nbconvert_exporter": "python",
   "pygments_lexer": "ipython3",
   "version": "3.11.4"
  }
 },
 "nbformat": 4,
 "nbformat_minor": 2
}
