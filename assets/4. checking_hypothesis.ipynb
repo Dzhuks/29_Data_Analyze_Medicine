{
 "cells": [
  {
   "cell_type": "markdown",
   "metadata": {},
   "source": [
    "# Проверка Гипотез"
   ]
  },
  {
   "cell_type": "markdown",
   "metadata": {},
   "source": [
    "*Проверка гипотез был проведена по алгоритму, представленный в презентации пятого урока*\n",
    " 1. Определить фактор и отклик\n",
    " 2. Определить шкалы фактора и отклика\n",
    " 3. Собрать данные\n",
    " 4. Выбрать тип графика и провести графический анализ\n",
    " 5. Выбрать метод проверки гипотезы\n",
    " 6. Рассчитать статистическую значимость\n",
    " 7. Сделать окончательный вывод\n",
    "\n",
    "*При выборе метода мы ориентировались на график, представленный в презентации пятого урока.*\n",
    "\n",
    "![Image](choosing_correct_statistical_test.jpg)\n",
    "\n",
    "*В ходе проверки гипотез был выбран следующий набор параметров:*\n",
    "- Уровень статистической значимости (p-уровень) установлен на 0.05."
   ]
  },
  {
   "cell_type": "markdown",
   "metadata": {},
   "source": [
    "Исследуемые параметры и краткий вывод:\n",
    ">1. **Возраст (количественная)**: не влияет\n",
    ">2. **АИК (интраоперационные)**: позитивная корреляция на уровне 2.3\n",
    ">3. **Длительность работы АИК (интраоперационные)**: позитивная корреляция\n",
    ">4. **Частота сокращений сердца (анамнез)**: не влияет\n",
    ">5. **Мочевина в крови (биохимия)**: не влияет\n",
    ">6. **ХБП**: хроническая болезнь почек (анамнез)**: не влияет\n",
    ">7. **Холестерин (биохимия)**: не влияет\n",
    ">8. **Сахарный диабет (анамнез)**: не влияет\n",
    ">9. **Время пережатия аорты (интраоперационные)**: сам факт имеет позитивную корреляцую на уровне 2.3, а время нет\n",
    ">10. **Калий (биохим)**: не влияет\n",
    "\n",
    "В общем 3 анамнез, 3 биохимия, 3 интраоперационные факторы"
   ]
  },
  {
   "cell_type": "code",
   "execution_count": 117,
   "metadata": {},
   "outputs": [],
   "source": [
    "import pandas as pd\n",
    "import seaborn as sns\n",
    "from scipy import stats"
   ]
  },
  {
   "cell_type": "code",
   "execution_count": 118,
   "metadata": {},
   "outputs": [],
   "source": [
    "def check_normality(data):\n",
    "    _, p_value_normality = stats.shapiro(data)\n",
    "    if p_value_normality < 0.05:\n",
    "        print(\"Данные распределены ненормально\")\n",
    "    else:\n",
    "        print(\"Данные распределены нормально\")\n",
    "\n",
    "\n",
    "def check_hypothesis(group1, group2, method) -> None:\n",
    "    if method == \"Хи-квадрат\":\n",
    "        contigency_table = pd.crosstab(group1, group2)\n",
    "        chi2 = stats.chi2_contingency(contigency_table)\n",
    "        cor, pvalue = chi2.statistic, chi2.pvalue\n",
    "    elif method == \"Т-критерий Стьюдента\":\n",
    "        cor, pvalue = stats.ttest_ind(group1, group2, equal_var=False)\n",
    "    elif method == \"U-критерий Манна-Уитни\":\n",
    "        cor, pvalue = stats.mannwhitneyu(group1, group2)\n",
    "    cor = round(cor, 2)\n",
    "    pvalue = round(pvalue, 2)\n",
    "    print(f\"корреляция={cor}, p-уровень={pvalue}\")\n",
    "    if pvalue < 0.05:\n",
    "        print(\"Отвергнуть нулевую гипотезу\")\n",
    "    else:\n",
    "        print(\"Мы не можем отвергнуть нулевую гипотезу\")"
   ]
  },
  {
   "cell_type": "markdown",
   "metadata": {},
   "source": [
    "Мы выдвигаем гипотезы по влиянию разных факторов на риск развития ОПП, поэтому шкала отклика для всех гипотез один - номинальная (2 уровень), поэтому делим данные на две части на основе наличие ОПП для удобства"
   ]
  },
  {
   "cell_type": "code",
   "execution_count": 119,
   "metadata": {},
   "outputs": [],
   "source": [
    "data = pd.read_csv(\"content/processed_data.csv\", encoding=\"utf-8\")\n",
    "\n",
    "# aki - Acute kidney injury (острое поражение почек)\n",
    "aki_absent = data[data[\"развитие_опп\"] == \"нет\"]\n",
    "aki_present = data[data[\"развитие_опп\"] == \"есть\"]"
   ]
  },
  {
   "cell_type": "markdown",
   "metadata": {},
   "source": [
    "## 1. Возраст (количественная)"
   ]
  },
  {
   "cell_type": "markdown",
   "metadata": {},
   "source": [
    "$H_{0}$: Нету корреляции между фактором возрастом и откликом риском развития ОПП\\\n",
    "$H_{1}$: Есть корреляция между фактором возрастом и откликом риском развития ОПП"
   ]
  },
  {
   "cell_type": "code",
   "execution_count": 120,
   "metadata": {},
   "outputs": [
    {
     "data": {
      "image/png": "[encoded data removed]",
      "text/plain": [
       "<Figure size 640x480 with 1 Axes>"
      ]
     },
     "metadata": {},
     "output_type": "display_data"
    }
   ],
   "source": [
    "ax = sns.boxplot(x=\"возраст\", hue=\"развитие_опп\", data=data)"
   ]
  },
  {
   "cell_type": "code",
   "execution_count": 121,
   "metadata": {},
   "outputs": [
    {
     "name": "stdout",
     "output_type": "stream",
     "text": [
      "Данные распределены нормально\n",
      "Данные распределены ненормально\n"
     ]
    }
   ],
   "source": [
    "aki_absent_age = aki_absent[\"возраст\"]\n",
    "aki_present_age = aki_present[\"возраст\"]\n",
    "\n",
    "check_normality(aki_absent_age)\n",
    "check_normality(aki_present_age)"
   ]
  },
  {
   "cell_type": "markdown",
   "metadata": {},
   "source": [
    "В одном из групп ненормальное распределение и шкала фактор - количественная, поэтому используем метод U-критерия Манна-Уитни"
   ]
  },
  {
   "cell_type": "code",
   "execution_count": 122,
   "metadata": {},
   "outputs": [
    {
     "name": "stdout",
     "output_type": "stream",
     "text": [
      "корреляция=3895.0, p-уровень=0.74\n",
      "Мы не можем отвергнуть нулевую гипотезу\n"
     ]
    }
   ],
   "source": [
    "check_hypothesis(aki_absent_age, aki_present_age, method=\"U-критерий Манна-Уитни\")"
   ]
  },
  {
   "cell_type": "markdown",
   "metadata": {},
   "source": [
    "При таком уровне значимости можно сделать вывод, что нету корреляции между фактором возрастом и риском развития ОПП"
   ]
  },
  {
   "cell_type": "markdown",
   "metadata": {},
   "source": [
    "## 2. АИК (интраоперационные) "
   ]
  },
  {
   "cell_type": "markdown",
   "metadata": {},
   "source": [
    "$H_{0}$: Нету корреляции между фактором АИК и откликом риском развития ОПП\\\n",
    "$H_{1}$: Есть корреляция между фактором АИК и откликом риском развития ОПП "
   ]
  },
  {
   "cell_type": "code",
   "execution_count": 123,
   "metadata": {},
   "outputs": [
    {
     "data": {
      "text/plain": [
       "<Axes: xlabel='развитие_опп'>"
      ]
     },
     "execution_count": 123,
     "metadata": {},
     "output_type": "execute_result"
    },
    {
     "data": {
      "image/png": "[encoded data removed]",
      "text/plain": [
       "<Figure size 640x480 with 1 Axes>"
      ]
     },
     "metadata": {},
     "output_type": "display_data"
    }
   ],
   "source": [
    "data = data.replace({\"аик\": {0: \"нет\", 1: \"есть\"}})\n",
    "crosstab = pd.crosstab(index=data[\"развитие_опп\"], columns=data[\"аик\"])\n",
    "\n",
    "crosstab.plot.bar(rot=0)"
   ]
  },
  {
   "cell_type": "markdown",
   "metadata": {},
   "source": [
    "Фактор АИК - бинарный (номинальный), поэтому будет использован критерий \"Хи-квадрат\""
   ]
  },
  {
   "cell_type": "code",
   "execution_count": 124,
   "metadata": {},
   "outputs": [
    {
     "name": "stdout",
     "output_type": "stream",
     "text": [
      "корреляция=4.48, p-уровень=0.03\n",
      "Отвергнуть нулевую гипотезу\n"
     ]
    }
   ],
   "source": [
    "check_hypothesis(data[\"аик\"], data[\"развитие_опп\"], method=\"Хи-квадрат\")"
   ]
  },
  {
   "cell_type": "markdown",
   "metadata": {},
   "source": [
    "При таком уровне значимости можно сделать вывод, что присутсвует связь между фактором АИК и откликом риском развития ОПП. Исследуем эту связь дальше. \n",
    "\n",
    "Рассмотрим насколько увеличиваеться вероятность развития ОПП при наличии АИК"
   ]
  },
  {
   "cell_type": "code",
   "execution_count": 125,
   "metadata": {},
   "outputs": [
    {
     "data": {
      "text/plain": [
       "2.3"
      ]
     },
     "execution_count": 125,
     "metadata": {},
     "output_type": "execute_result"
    }
   ],
   "source": [
    "res = stats.contingency.odds_ratio(crosstab)\n",
    "round(res.statistic, 2)"
   ]
  },
  {
   "cell_type": "markdown",
   "metadata": {},
   "source": [
    "Из этого следует вывод, что вероятность получить ОПП у пациентов с АИК в 2,3 раза выше, чем у пациентов без АИК"
   ]
  },
  {
   "cell_type": "markdown",
   "metadata": {},
   "source": [
    "## 3. Длительность работы АИК (интраоперационные) "
   ]
  },
  {
   "cell_type": "markdown",
   "metadata": {},
   "source": [
    "$H_{0}$: Нету корреляции между фактором длительности работы АИК и откликом риском развития ОПП\\\n",
    "$H_{1}$: Есть корреляция между фактором длительности работы АИК и откликом риском развития ОПП "
   ]
  },
  {
   "cell_type": "markdown",
   "metadata": {},
   "source": [
    "Очевидно, что длительность работы АИК имеет место быть только при наличие АИК, поэтому будет исследовать только данные с наличием АИК"
   ]
  },
  {
   "cell_type": "code",
   "execution_count": 126,
   "metadata": {},
   "outputs": [],
   "source": [
    "# hlm - heart lung machine (аппарат исскуственного кровообращения)\n",
    "hlm_present = data[data['аик'] == 'есть']"
   ]
  },
  {
   "cell_type": "code",
   "execution_count": 127,
   "metadata": {},
   "outputs": [
    {
     "data": {
      "text/plain": [
       "<Axes: xlabel='длительность_аик'>"
      ]
     },
     "execution_count": 127,
     "metadata": {},
     "output_type": "execute_result"
    },
    {
     "data": {
      "image/png": "[encoded data removed]",
      "text/plain": [
       "<Figure size 640x480 with 1 Axes>"
      ]
     },
     "metadata": {},
     "output_type": "display_data"
    }
   ],
   "source": [
    "sns.boxplot(x=hlm_present['длительность_аик'], hue=hlm_present['развитие_опп'])"
   ]
  },
  {
   "cell_type": "code",
   "execution_count": 128,
   "metadata": {},
   "outputs": [
    {
     "name": "stdout",
     "output_type": "stream",
     "text": [
      "Данные распределены ненормально\n",
      "Данные распределены ненормально\n"
     ]
    }
   ],
   "source": [
    "aki_absent_hlm_duration = hlm_present[hlm_present[\"развитие_опп\"] == \"нет\"][\"длительность_аик\"]\n",
    "aki_present_hlm_duration = hlm_present[hlm_present[\"развитие_опп\"] == \"есть\"][\"длительность_аик\"]\n",
    "\n",
    "check_normality(aki_absent_hlm_duration)\n",
    "check_normality(aki_present_hlm_duration)"
   ]
  },
  {
   "cell_type": "markdown",
   "metadata": {},
   "source": [
    "У обоих групп ненормальное распределние и фактор \"длительность_аик\" количественный, поэтому используем метод U-критерия Манна-Уитни"
   ]
  },
  {
   "cell_type": "code",
   "execution_count": 129,
   "metadata": {},
   "outputs": [
    {
     "name": "stdout",
     "output_type": "stream",
     "text": [
      "корреляция=1866.0, p-уровень=0.03\n",
      "Отвергнуть нулевую гипотезу\n"
     ]
    }
   ],
   "source": [
    "check_hypothesis(aki_absent_hlm_duration, aki_present_hlm_duration, method='U-критерий Манна-Уитни')"
   ]
  },
  {
   "cell_type": "markdown",
   "metadata": {},
   "source": [
    "При таком уровне значимости можно сделать вывод, что присутствует связь между фактором длительности АИК и откликом риском развития ОПП. Исследуем эту связь дальше"
   ]
  },
  {
   "cell_type": "code",
   "execution_count": 130,
   "metadata": {},
   "outputs": [
    {
     "data": {
      "text/plain": [
       "1.15"
      ]
     },
     "execution_count": 130,
     "metadata": {},
     "output_type": "execute_result"
    }
   ],
   "source": [
    "round(aki_present_hlm_duration.mean() / aki_absent_hlm_duration.mean(), 2)"
   ]
  },
  {
   "cell_type": "markdown",
   "metadata": {},
   "source": [
    "Пациенты с ОПП имели на 15% больше длительности АИК чем пациненты без ОПП. Из этого следует вывод, что чем больше времени пациент проводит с АИК, то тем выше шансы получить ОПП"
   ]
  },
  {
   "cell_type": "markdown",
   "metadata": {},
   "source": [
    "## 4. Частота сокращений сердца (анамнез)"
   ]
  },
  {
   "cell_type": "markdown",
   "metadata": {},
   "source": [
    "$H_{0}$: Нету корреляции между фактором ЧСС и откликом риском развития ОПП\\\n",
    "$H_{1}$: Есть корреляция между фактором ЧСС и откликом риском развития ОПП  "
   ]
  },
  {
   "cell_type": "code",
   "execution_count": 131,
   "metadata": {},
   "outputs": [
    {
     "data": {
      "text/plain": [
       "<Axes: xlabel='чсс'>"
      ]
     },
     "execution_count": 131,
     "metadata": {},
     "output_type": "execute_result"
    },
    {
     "data": {
      "image/png": "[encoded data removed]",
      "text/plain": [
       "<Figure size 640x480 with 1 Axes>"
      ]
     },
     "metadata": {},
     "output_type": "display_data"
    }
   ],
   "source": [
    "sns.boxplot(x=\"чсс\", hue=\"развитие_опп\", data=data)"
   ]
  },
  {
   "cell_type": "code",
   "execution_count": 132,
   "metadata": {},
   "outputs": [
    {
     "name": "stdout",
     "output_type": "stream",
     "text": [
      "Данные распределены нормально\n",
      "Данные распределены нормально\n"
     ]
    }
   ],
   "source": [
    "aki_absent_heart_rate = aki_absent['чсс']\n",
    "aki_present_heart_rate = aki_absent['чсс']\n",
    "\n",
    "check_normality(aki_absent_heart_rate)\n",
    "check_normality(aki_present_heart_rate)"
   ]
  },
  {
   "cell_type": "markdown",
   "metadata": {},
   "source": [
    "У обоих групп нормальное распределение, поэтому используем метод Т-критерия Стьюдента"
   ]
  },
  {
   "cell_type": "code",
   "execution_count": 133,
   "metadata": {},
   "outputs": [
    {
     "name": "stdout",
     "output_type": "stream",
     "text": [
      "корреляция=0.0, p-уровень=1.0\n",
      "Мы не можем отвергнуть нулевую гипотезу\n"
     ]
    }
   ],
   "source": [
    "check_hypothesis(\n",
    "    aki_absent_heart_rate, aki_present_heart_rate, method=\"Т-критерий Стьюдента\"\n",
    ")"
   ]
  },
  {
   "cell_type": "markdown",
   "metadata": {},
   "source": [
    "При таком уровне значимости можно сделать вывод, что точно нет корреляции между ЧСС и риском развития ОПП"
   ]
  },
  {
   "cell_type": "markdown",
   "metadata": {},
   "source": [
    "## 5. Мочевина в крови (биохимия)"
   ]
  },
  {
   "cell_type": "markdown",
   "metadata": {},
   "source": [
    "$H_{0}$: Нету корреляции между фактором мочевины в крови и откликом риском развития ОПП\\\n",
    "$H_{1}$: Есть корреляция между фактором мочевины в крови и откликом риском развития ОПП  "
   ]
  },
  {
   "cell_type": "code",
   "execution_count": 134,
   "metadata": {},
   "outputs": [
    {
     "data": {
      "text/plain": [
       "<Axes: xlabel='мочевина'>"
      ]
     },
     "execution_count": 134,
     "metadata": {},
     "output_type": "execute_result"
    },
    {
     "data": {
      "image/png": "[encoded data removed]",
      "text/plain": [
       "<Figure size 640x480 with 1 Axes>"
      ]
     },
     "metadata": {},
     "output_type": "display_data"
    }
   ],
   "source": [
    "sns.boxplot(x='мочевина', hue='развитие_опп', data=data)"
   ]
  },
  {
   "cell_type": "code",
   "execution_count": 135,
   "metadata": {},
   "outputs": [
    {
     "name": "stdout",
     "output_type": "stream",
     "text": [
      "Данные распределены ненормально\n",
      "Данные распределены ненормально\n"
     ]
    }
   ],
   "source": [
    "aki_absent_urea = aki_absent['мочевина']\n",
    "aki_present_urea = aki_present['мочевина']\n",
    "\n",
    "check_normality(aki_absent_urea)\n",
    "check_normality(aki_present_urea)"
   ]
  },
  {
   "cell_type": "markdown",
   "metadata": {},
   "source": [
    "Данные распределены ненормально, шкала фактора - количественная, поэтому используем U-критерий Манна-Уитни"
   ]
  },
  {
   "cell_type": "code",
   "execution_count": 136,
   "metadata": {},
   "outputs": [
    {
     "name": "stdout",
     "output_type": "stream",
     "text": [
      "корреляция=4004.5, p-уровень=0.98\n",
      "Мы не можем отвергнуть нулевую гипотезу\n"
     ]
    }
   ],
   "source": [
    "check_hypothesis(aki_absent_urea, aki_present_urea, method=\"U-критерий Манна-Уитни\")"
   ]
  },
  {
   "cell_type": "markdown",
   "metadata": {},
   "source": [
    "При таком уровне значимости мы можем уверенно сказать, что нету связи между фактором ЧСС и откликом риском развития ОПП"
   ]
  },
  {
   "cell_type": "markdown",
   "metadata": {},
   "source": [
    "## 6. ХБП - хроническая болезнь почек (анамнез)"
   ]
  },
  {
   "cell_type": "markdown",
   "metadata": {},
   "source": [
    "$H_{0}$: Нету корреляции между фактором ХБП и откликом риском развития ОПП\\\n",
    "$H_{1}$: Есть корреляция между фактором ХБП и откликом риском развития ОПП  "
   ]
  },
  {
   "cell_type": "code",
   "execution_count": 137,
   "metadata": {},
   "outputs": [
    {
     "data": {
      "text/plain": [
       "<Axes: xlabel='развитие_опп'>"
      ]
     },
     "execution_count": 137,
     "metadata": {},
     "output_type": "execute_result"
    },
    {
     "data": {
      "image/png": "[encoded data removed]",
      "text/plain": [
       "<Figure size 640x480 with 1 Axes>"
      ]
     },
     "metadata": {},
     "output_type": "display_data"
    }
   ],
   "source": [
    "crosstab = pd.crosstab(index=data[\"развитие_опп\"], columns=data[\"хбп\"])\n",
    "\n",
    "crosstab.plot.bar(rot=0)"
   ]
  },
  {
   "cell_type": "code",
   "execution_count": 138,
   "metadata": {},
   "outputs": [
    {
     "name": "stdout",
     "output_type": "stream",
     "text": [
      "корреляция=1.65, p-уровень=0.44\n",
      "Мы не можем отвергнуть нулевую гипотезу\n"
     ]
    }
   ],
   "source": [
    "check_hypothesis(data[\"хбп\"], data[\"развитие_опп\"], method=\"Хи-квадрат\")"
   ]
  },
  {
   "cell_type": "markdown",
   "metadata": {},
   "source": [
    "При таком уровне значимости мы может заявить, что нету связи между фактором ХБП и откликом риском развития ОПП"
   ]
  },
  {
   "cell_type": "markdown",
   "metadata": {},
   "source": [
    "## 7. Холестерин (биохимия)"
   ]
  },
  {
   "cell_type": "markdown",
   "metadata": {},
   "source": [
    "$H_{0}$: Нету корреляции между фактором холестерин и откликом риском развития ОПП\\\n",
    "$H_{1}$: Есть корреляция между фактором холестерин и откликом риском развития ОПП  "
   ]
  },
  {
   "cell_type": "code",
   "execution_count": 139,
   "metadata": {},
   "outputs": [
    {
     "data": {
      "text/plain": [
       "<Axes: xlabel='холестерин'>"
      ]
     },
     "execution_count": 139,
     "metadata": {},
     "output_type": "execute_result"
    },
    {
     "data": {
      "image/png": "[encoded data removed]",
      "text/plain": [
       "<Figure size 640x480 with 1 Axes>"
      ]
     },
     "metadata": {},
     "output_type": "display_data"
    }
   ],
   "source": [
    "sns.boxplot(x='холестерин', hue='развитие_опп', data=data)"
   ]
  },
  {
   "cell_type": "code",
   "execution_count": 140,
   "metadata": {},
   "outputs": [
    {
     "name": "stdout",
     "output_type": "stream",
     "text": [
      "Данные распределены нормально\n",
      "Данные распределены нормально\n"
     ]
    }
   ],
   "source": [
    "aki_absent_cholesterol = aki_absent['холестерин']\n",
    "aki_present_cholesterol = aki_present['холестерин']\n",
    "\n",
    "check_normality(aki_absent_cholesterol)\n",
    "check_normality(aki_present_cholesterol)"
   ]
  },
  {
   "cell_type": "markdown",
   "metadata": {},
   "source": [
    "Данные распределены нормально, шкала фактора - количественная, поэтому используем Т-критерий Стьюдента"
   ]
  },
  {
   "cell_type": "code",
   "execution_count": 141,
   "metadata": {},
   "outputs": [
    {
     "name": "stdout",
     "output_type": "stream",
     "text": [
      "корреляция=-0.56, p-уровень=0.58\n",
      "Мы не можем отвергнуть нулевую гипотезу\n"
     ]
    }
   ],
   "source": [
    "check_hypothesis(aki_absent_cholesterol, aki_present_cholesterol, method='Т-критерий Стьюдента')"
   ]
  },
  {
   "cell_type": "code",
   "execution_count": 142,
   "metadata": {},
   "outputs": [
    {
     "data": {
      "text/plain": [
       "1.02"
      ]
     },
     "execution_count": 142,
     "metadata": {},
     "output_type": "execute_result"
    }
   ],
   "source": [
    "round(aki_present_cholesterol.mean() / aki_absent_cholesterol.mean(), 2)"
   ]
  },
  {
   "cell_type": "markdown",
   "metadata": {},
   "source": [
    "При таком уровне значимости  и незначительной разницы в средних мы может заявить, что нету связи между фактором холестерин и откликом риском развития ОПП"
   ]
  },
  {
   "cell_type": "markdown",
   "metadata": {},
   "source": [
    "## 8. Сахарный диабет (анамнез)"
   ]
  },
  {
   "cell_type": "markdown",
   "metadata": {},
   "source": [
    "$H_{0}$: Нету корреляции между фактором сахарный_диабет и откликом риском развития ОПП\\\n",
    "$H_{1}$: Есть корреляция между фактором сахарный_диабет и откликом риском развития ОПП  "
   ]
  },
  {
   "cell_type": "code",
   "execution_count": 143,
   "metadata": {},
   "outputs": [
    {
     "data": {
      "text/plain": [
       "<Axes: xlabel='развитие_опп'>"
      ]
     },
     "execution_count": 143,
     "metadata": {},
     "output_type": "execute_result"
    },
    {
     "data": {
      "image/png": "[encoded data removed]",
      "text/plain": [
       "<Figure size 640x480 with 1 Axes>"
      ]
     },
     "metadata": {},
     "output_type": "display_data"
    }
   ],
   "source": [
    "data = data.replace({\"сахарный_диабет\": {0: \"нет\", 1: \"есть\"}})\n",
    "crosstab = pd.crosstab(index=data[\"развитие_опп\"], columns=data[\"сахарный_диабет\"])\n",
    "crosstab.plot.bar(rot=0)"
   ]
  },
  {
   "cell_type": "markdown",
   "metadata": {},
   "source": [
    "Фактор сахарный_диабет - бинарный (номинальный), поэтому будет использован критерий \"Хи-квадрат\""
   ]
  },
  {
   "cell_type": "code",
   "execution_count": 144,
   "metadata": {},
   "outputs": [
    {
     "name": "stdout",
     "output_type": "stream",
     "text": [
      "корреляция=1.01, p-уровень=0.32\n",
      "Мы не можем отвергнуть нулевую гипотезу\n"
     ]
    }
   ],
   "source": [
    "check_hypothesis(data[\"сахарный_диабет\"], data[\"развитие_опп\"], method=\"Хи-квадрат\")"
   ]
  },
  {
   "cell_type": "markdown",
   "metadata": {},
   "source": [
    "При таком уровне значимости можно сделать вывод, что отсутсвует связь между фактором сахарный диабет и откликом риском развития ОПП. "
   ]
  },
  {
   "cell_type": "markdown",
   "metadata": {},
   "source": [
    "## 9. Время пережатия аорты (интраоперационные)"
   ]
  },
  {
   "cell_type": "markdown",
   "metadata": {},
   "source": [
    "Так как факт пережатия аорты очень сильно влияет на почки, поэтому сперва нужно исследовать это, а потом устанавливать связь длительности пережатия и риском развития ОПП"
   ]
  },
  {
   "cell_type": "markdown",
   "metadata": {},
   "source": [
    "### Фактор пережатия аорты "
   ]
  },
  {
   "cell_type": "markdown",
   "metadata": {},
   "source": [
    "$H_{0}$: Нету корреляции между фактором фактом пережатии аорты и откликом риском развития ОПП\\\n",
    "$H_{1}$: Есть корреляция между фактором фактом пережатии аорты и откликом риском развития ОПП  "
   ]
  },
  {
   "cell_type": "code",
   "execution_count": 145,
   "metadata": {},
   "outputs": [
    {
     "data": {
      "text/plain": [
       "<Axes: xlabel='развитие_опп'>"
      ]
     },
     "execution_count": 145,
     "metadata": {},
     "output_type": "execute_result"
    },
    {
     "data": {
      "image/png": "[encoded data removed]",
      "text/plain": [
       "<Figure size 640x480 with 1 Axes>"
      ]
     },
     "metadata": {},
     "output_type": "display_data"
    }
   ],
   "source": [
    "data[\"факт_пережатия_аорты\"] = data[\"время_пережатия_аорты\"].apply(\n",
    "    lambda x: \"был\" if x > 0 else \"не был\"\n",
    ")\n",
    "crosstab = pd.crosstab(index=data[\"развитие_опп\"], columns=data[\"факт_пережатия_аорты\"])\n",
    "crosstab.plot.bar(rot=0)"
   ]
  },
  {
   "cell_type": "code",
   "execution_count": 146,
   "metadata": {},
   "outputs": [
    {
     "name": "stdout",
     "output_type": "stream",
     "text": [
      "корреляция=4.48, p-уровень=0.03\n",
      "Отвергнуть нулевую гипотезу\n"
     ]
    }
   ],
   "source": [
    "check_hypothesis(data[\"факт_пережатия_аорты\"], data[\"развитие_опп\"], method=\"Хи-квадрат\")"
   ]
  },
  {
   "cell_type": "markdown",
   "metadata": {},
   "source": [
    "При таком уровне значимости можно сказать, что факт пережатия аорты имеет влияние на риск развития ОПП. Исследуем эту связь"
   ]
  },
  {
   "cell_type": "code",
   "execution_count": 147,
   "metadata": {},
   "outputs": [
    {
     "data": {
      "text/plain": [
       "2.3"
      ]
     },
     "execution_count": 147,
     "metadata": {},
     "output_type": "execute_result"
    }
   ],
   "source": [
    "crosstab = pd.crosstab(index=data[\"развитие_опп\"], columns=data[\"факт_пережатия_аорты\"])\n",
    "res = stats.contingency.odds_ratio(crosstab)\n",
    "round(res.statistic, 2)"
   ]
  },
  {
   "cell_type": "markdown",
   "metadata": {},
   "source": [
    "Из этого следует вывод, что вероятность получить ОПП у пациентов, у которых было пережатие аорты, выше на 2.3 раза, чем у пациентов не переживших это"
   ]
  },
  {
   "cell_type": "markdown",
   "metadata": {},
   "source": [
    "### Время пережатия аорты"
   ]
  },
  {
   "cell_type": "markdown",
   "metadata": {},
   "source": [
    "$H_{0}$: Нету корреляции между фактором временм пережатии аорты и откликом риском развития ОПП\\\n",
    "$H_{1}$: Есть корреляция между фактором времени пережатии аорты и откликом риском развития ОПП  "
   ]
  },
  {
   "cell_type": "code",
   "execution_count": 148,
   "metadata": {},
   "outputs": [
    {
     "data": {
      "text/plain": [
       "<Axes: xlabel='время_пережатия_аорты'>"
      ]
     },
     "execution_count": 148,
     "metadata": {},
     "output_type": "execute_result"
    },
    {
     "data": {
      "image/png": "[encoded data removed]",
      "text/plain": [
       "<Figure size 640x480 with 1 Axes>"
      ]
     },
     "metadata": {},
     "output_type": "display_data"
    }
   ],
   "source": [
    "aorta_duration = data[data['время_пережатия_аорты'] > 0]\n",
    "sns.boxplot(x='время_пережатия_аорты', hue='развитие_опп', data=aorta_duration)"
   ]
  },
  {
   "cell_type": "code",
   "execution_count": 149,
   "metadata": {},
   "outputs": [
    {
     "name": "stdout",
     "output_type": "stream",
     "text": [
      "Данные распределены нормально\n",
      "Данные распределены нормально\n"
     ]
    }
   ],
   "source": [
    "aki_absent_aorta_duration = aorta_duration[aorta_duration[\"развитие_опп\"] == \"нет\"]['время_пережатия_аорты']\n",
    "aki_present_aorta_duration = aorta_duration[aorta_duration[\"развитие_опп\"] == \"есть\"]['время_пережатия_аорты']\n",
    "\n",
    "check_normality(aki_absent_aorta_duration)\n",
    "check_normality(aki_present_aorta_duration)"
   ]
  },
  {
   "cell_type": "markdown",
   "metadata": {},
   "source": [
    "Данные распределены нормально, шкала фактора - количественная, поэтому используем Т-критерий Стьюдента"
   ]
  },
  {
   "cell_type": "code",
   "execution_count": 150,
   "metadata": {},
   "outputs": [
    {
     "name": "stdout",
     "output_type": "stream",
     "text": [
      "корреляция=-1.58, p-уровень=0.12\n",
      "Мы не можем отвергнуть нулевую гипотезу\n"
     ]
    }
   ],
   "source": [
    "check_hypothesis(aki_absent_aorta_duration, aki_present_aorta_duration, method='Т-критерий Стьюдента')"
   ]
  },
  {
   "cell_type": "markdown",
   "metadata": {},
   "source": [
    "Из этого следует, что, хотя факт пережатия аорты сильно влияет на риск развития ОПП, но на сама длительность процесса не влияет на это"
   ]
  },
  {
   "cell_type": "markdown",
   "metadata": {},
   "source": [
    "## 10. Калий (биохим)"
   ]
  },
  {
   "cell_type": "markdown",
   "metadata": {},
   "source": [
    "$H_{0}$: Нету корреляции между фактором калий и откликом риском развития ОПП\\\n",
    "$H_{1}$: Есть корреляция между фактором калий и откликом риском развития ОПП  "
   ]
  },
  {
   "cell_type": "code",
   "execution_count": 151,
   "metadata": {},
   "outputs": [
    {
     "data": {
      "text/plain": [
       "<Axes: xlabel='калий'>"
      ]
     },
     "execution_count": 151,
     "metadata": {},
     "output_type": "execute_result"
    },
    {
     "data": {
      "image/png": "[encoded data removed]",
      "text/plain": [
       "<Figure size 640x480 with 1 Axes>"
      ]
     },
     "metadata": {},
     "output_type": "display_data"
    }
   ],
   "source": [
    "sns.boxplot(x='калий', hue='развитие_опп', data=data)"
   ]
  },
  {
   "cell_type": "code",
   "execution_count": 152,
   "metadata": {},
   "outputs": [
    {
     "name": "stdout",
     "output_type": "stream",
     "text": [
      "Данные распределены ненормально\n",
      "Данные распределены ненормально\n"
     ]
    }
   ],
   "source": [
    "aki_absent_potassium = aki_absent['калий']\n",
    "aki_present_potassium = aki_present['калий']\n",
    "\n",
    "check_normality(aki_absent_potassium)\n",
    "check_normality(aki_present_potassium)"
   ]
  },
  {
   "cell_type": "markdown",
   "metadata": {},
   "source": [
    "Обе группы распределены ненормально, шкала фактора - количественная, поэтому используем U-критерий Манна-Уитни"
   ]
  },
  {
   "cell_type": "code",
   "execution_count": 153,
   "metadata": {},
   "outputs": [
    {
     "name": "stdout",
     "output_type": "stream",
     "text": [
      "корреляция=4854.0, p-уровень=0.02\n",
      "Отвергнуть нулевую гипотезу\n"
     ]
    }
   ],
   "source": [
    "check_hypothesis(aki_absent_potassium, aki_present_potassium, method='U-критерий Манна-Уитни')"
   ]
  },
  {
   "cell_type": "markdown",
   "metadata": {},
   "source": [
    "При таком уровне значимости можно сделать вывод, что уровень калия влияет на риск развития ОПП"
   ]
  }
 ],
 "metadata": {
  "kernelspec": {
   "display_name": ".venv",
   "language": "python",
   "name": "python3"
  },
  "language_info": {
   "codemirror_mode": {
    "name": "ipython",
    "version": 3
   },
   "file_extension": ".py",
   "mimetype": "text/x-python",
   "name": "python",
   "nbconvert_exporter": "python",
   "pygments_lexer": "ipython3",
   "version": "3.11.4"
  }
 },
 "nbformat": 4,
 "nbformat_minor": 2
}
