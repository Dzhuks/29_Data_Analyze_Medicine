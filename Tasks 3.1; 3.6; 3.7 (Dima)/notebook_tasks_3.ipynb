{
  "nbformat": 4,
  "nbformat_minor": 0,
  "metadata": {
    "colab": {
      "provenance": [],
      "toc_visible": true
    },
    "kernelspec": {
      "name": "python3",
      "display_name": "Python 3"
    },
    "language_info": {
      "name": "python"
    }
  },
  "cells": [
    {
      "cell_type": "markdown",
      "source": [
        "# **Пункт 3 - Проведение расчётов и исследований**\n",
        "\n"
      ],
      "metadata": {
        "id": "YCBrcVFPB9ac"
      }
    },
    {
      "cell_type": "markdown",
      "source": [
        "В этом ноутбуке представлено решение 1, 6 и 7 задач из третьего пункта"
      ],
      "metadata": {
        "id": "T1yJv7q7BArw"
      }
    },
    {
      "cell_type": "markdown",
      "source": [
        "# **3.1 Посчитать процент пациентов с хроническими заболеваниям (сахарный диабет, гипертония, хроническая болезнь почек) для групп “есть ОПП/нет ОПП”**"
      ],
      "metadata": {
        "id": "GSNDVR-eDK8g"
      }
    },
    {
      "cell_type": "code",
      "source": [
        "import pandas as pd\n",
        "import numpy as np\n",
        "import warnings\n",
        "\n",
        "\n",
        "def count_percentage(category: str, temp_df: pd.DataFrame):\n",
        "    '''\n",
        "        category - название колонки, процент которой будет вычисляться\n",
        "        temp_df - временный датасет только с двумся колонками: развитие_опп, одина из ['сахарный_диабет', 'гб', 'наличие_хбп']\n",
        "    '''\n",
        "\n",
        "    # преобразование датасета, чтобы остались только те, у кого есть хроническое заболевание\n",
        "    temp_df[category] = temp_df[category].apply(lambda x: 1 if x == 1 else np.NaN)\n",
        "    temp_df = temp_df.dropna(axis=0)\n",
        "\n",
        "    # подсчёт количества пациентов, которые имеют/не имеют ОПП\n",
        "    data = temp_df.groupby(['развитие_опп']).agg({category: 'count'})\n",
        "\n",
        "    # высчитывание процента пациентов, которые имеют/не имеют ОПП\n",
        "    answer = [category]\n",
        "    summ = sum(list(data[category]))\n",
        "    for en, j in enumerate(data[category]):\n",
        "        answer.append(f'{list(data[category].index)[en]} ОПП - {round(j / summ * 100, 2)}%')\n",
        "\n",
        "    '''\n",
        "        возвращаем список, который содержит следующую информацию:\n",
        "        answer[0] - название хронической болезни\n",
        "        answer[1] - процент пациентов, которые болеют хронически и имеют ОПП\n",
        "        answer[2] - процент пациентов, которые болеют хронически, но не имеют ОПП\n",
        "    '''\n",
        "    return answer\n",
        "\n",
        "\n",
        "warnings.filterwarnings('ignore')\n",
        "\n",
        "# загрузка и предобработка данных\n",
        "df = pd.read_csv('/content/Content/processed_data.csv', skipinitialspace=True, sep=',')\n",
        "df.columns = [i.replace(' ', '_').lower() for i in df.columns]\n",
        "\n",
        "# создание новой колонки с бинарным типом данных\n",
        "df['наличие_хбп'] = df['хбп'].apply(lambda x: 0 if x == 'Пациенты без ХБП' else 1)\n",
        "\n",
        "# цикл по всем необходимым хроническим болезням\n",
        "for categ in ['сахарный_диабет', 'гб', 'наличие_хбп']:\n",
        "    print(*count_percentage(categ, df[[categ, 'развитие_опп']]))\n"
      ],
      "metadata": {
        "colab": {
          "base_uri": "https://localhost:8080/"
        },
        "id": "znp99w8jDBZc",
        "outputId": "56fd8d13-48a0-42b2-8729-dc444401473e"
      },
      "execution_count": 6,
      "outputs": [
        {
          "output_type": "stream",
          "name": "stdout",
          "text": [
            "сахарный_диабет есть ОПП - 69.49% нет ОПП - 30.51%\n",
            "гб есть ОПП - 61.9% нет ОПП - 38.1%\n",
            "наличие_хбп есть ОПП - 65.69% нет ОПП - 34.31%\n"
          ]
        }
      ]
    },
    {
      "cell_type": "markdown",
      "source": [
        "# **3.6 Проверить адекватность поставленного диагноза по стадии хронической болезни почек (найти параметр, по которому ставится диагноз, использовать данные из внешних источников)**"
      ],
      "metadata": {
        "id": "nkVXtWLFDNNq"
      }
    },
    {
      "cell_type": "code",
      "source": [
        "# ЗАДАНИЕ 3.6\n",
        "import pandas as pd\n",
        "\n",
        "\n",
        "def make_prediction_to_diagnosis(skf):\n",
        "    # устанавливаем стадию хбп у пациента\n",
        "    if g1[0] <= skf <= g1[1]:\n",
        "        return 'Стадия C1-C2'\n",
        "    elif g2[1] < skf < g1[0]:\n",
        "        return 'Стадия C1-С2'\n",
        "    elif skf <= g2[1]:\n",
        "        return 'Стадия C3'\n",
        "    return 'Пациенты без ХБП'\n",
        "\n",
        "\n",
        "def check_diagnosis(cols):\n",
        "    # проверяем адекватность поставлxенного диагноза\n",
        "    vals = cols.values\n",
        "    if vals[0] == vals[1]:\n",
        "        return 'Диагноз поставлен правильно'\n",
        "    return 'Диагноз возможно поставлен некорректно'\n",
        "\n",
        "\n",
        "# Загружаем и делаем предобработку данных\n",
        "# скф_расч., 90-120 (параметр, по которому определяется стадия хбп)\n",
        "df = pd.read_csv('/content/Content/processed_data.csv', skipinitialspace=True, decimal=',', sep=',')\n",
        "df.columns = [i.replace(' ', '_').lower() for i in df.columns]\n",
        "\n",
        "data = df[['развитие_опп', 'хбп', 'скф_расч']]\n",
        "data['скф_расч'] = data['скф_расч'].astype(float)\n",
        "# удаляем всех пациентов у которых нет опп\n",
        "data = data[(data['развитие_опп'] == 'есть')]\n",
        "\n",
        "# узнаем примерные рамки параметра скф по поставленной стадии\n",
        "d = round(data.groupby(['хбп']).agg({'скф_расч': 'describe'})['скф_расч'], 2)\n",
        "twenty_five = d['25%'].values\n",
        "mean = d['mean'].values\n",
        "seventy_five = d['75%'].values\n",
        "\n",
        "g1 = [twenty_five[0], seventy_five[0]]\n",
        "g2 = [twenty_five[1], seventy_five[1]]\n",
        "\n",
        "# делаем колонку предположительного диагноза\n",
        "data['предположительный_диагноз'] = data['скф_расч'].apply(lambda x: make_prediction_to_diagnosis(x))\n",
        "# сравниваем колонку преположительного диагноза и хбп.\n",
        "# Если диагноз подтверждается: Диагноз поставлен правильно\n",
        "# Иначе: Диагноз возможно поставлен некорректно\n",
        "data['адекватность_диагноза'] = data[['предположительный_диагноз', 'хбп']].apply(lambda x: check_diagnosis(x), axis=1)\n",
        "\n",
        "print(data[['адекватность_диагноза', 'хбп']].head(10))\n"
      ],
      "metadata": {
        "colab": {
          "base_uri": "https://localhost:8080/"
        },
        "id": "JsCb6wKyDtvb",
        "outputId": "e2473570-7710-4b07-8064-32ec8363a878"
      },
      "execution_count": 9,
      "outputs": [
        {
          "output_type": "stream",
          "name": "stdout",
          "text": [
            "                     адекватность_диагноза               хбп\n",
            "1   Диагноз возможно поставлен некорректно      Стадия C1-C2\n",
            "4              Диагноз поставлен правильно      Стадия C1-C2\n",
            "6   Диагноз возможно поставлен некорректно      Стадия C1-C2\n",
            "8              Диагноз поставлен правильно      Стадия C1-C2\n",
            "10             Диагноз поставлен правильно      Стадия C1-C2\n",
            "13             Диагноз поставлен правильно      Стадия C1-C2\n",
            "15  Диагноз возможно поставлен некорректно      Стадия C1-C2\n",
            "16  Диагноз возможно поставлен некорректно  Пациенты без ХБП\n",
            "17             Диагноз поставлен правильно      Стадия C1-C2\n",
            "19             Диагноз поставлен правильно      Стадия C1-C2\n"
          ]
        }
      ]
    },
    {
      "cell_type": "markdown",
      "source": [
        "# **3.7 Исследовать корреляцию между параметрами. Для наиболее сильных корреляций обосновать, имеет ли это реальный смысл или же просто особенность данных**"
      ],
      "metadata": {
        "id": "gbl-0DhdEKaY"
      }
    },
    {
      "cell_type": "code",
      "source": [
        "# ЗАДАНИЕ 3.7\n",
        "\n",
        "import pandas as pd\n",
        "from scipy.stats import pearsonr, spearmanr, mannwhitneyu, chi2_contingency, shapiro\n",
        "\n",
        "\n",
        "def chi2_counting(first_cat, second_cat):\n",
        "    # функция для подсчёта корреляции номинальных данных с номинальными\n",
        "\n",
        "    temp_table = pd.crosstab(data[first_cat], data[second_cat])\n",
        "    chi_2 = chi2_contingency(temp_table)\n",
        "    return chi_2.statistic, chi_2.pvalue\n",
        "\n",
        "\n",
        "def mannwhitneyu_counting(first_cat, second_cat):\n",
        "    # функция для подсчёта корреляции количественных данных с номинальными\n",
        "\n",
        "    mn = mannwhitneyu(first_cat, second_cat)\n",
        "    cor, p_value = mn.statistic, mn.pvalue\n",
        "    return cor, p_value\n",
        "\n",
        "\n",
        "def pearsonr_counting(first_cat, second_cat):\n",
        "    # функция для подсчёта корреляции количественных данных с количественными (с нормальным распределением данных)\n",
        "\n",
        "    pr = pearsonr(first_cat, second_cat)\n",
        "    cor, p_value = pr.statistic, pr.pvalue\n",
        "    return cor, p_value\n",
        "\n",
        "\n",
        "def spearmanr_counting(first_cat, second_cat):\n",
        "    # функция для подсчёта корреляции количественных данных с количественными (с ненормальным распределением данных)\n",
        "\n",
        "    sp = spearmanr(first_cat, second_cat)\n",
        "    cor, p_value = sp.statistic, sp.pvalue\n",
        "    return cor, p_value\n",
        "\n",
        "\n",
        "data = pd.read_csv('/content/Content/processed_data.csv', skipinitialspace=True)\n",
        "data.columns = [i.replace(' ', '_').lower() for i in data.columns]\n",
        "nominal = ['развитие_опп', 'пол', 'гб', 'сахарный_диабет', 'стенокардия', 'инфаркт_миокарда', 'мерцательная_аритмия',\n",
        "           'желудочковая_экстрасистолия', 'а-в_блокада', 'блокада_ножек_пучка_гиса', 'хсн', 'нк', 'ар', 'аик', 'хбп']\n",
        "\n",
        "answer = list()\n",
        "\n",
        "for first_cat in data.columns:\n",
        "    for second_cat in data.columns:\n",
        "        if first_cat != second_cat:\n",
        "            g1 = data[first_cat]\n",
        "            g2 = data[second_cat]\n",
        "            if first_cat in nominal and second_cat in nominal:\n",
        "                # высчитывание корреляции для номинальные-номинальные\n",
        "                cor, p_value = chi2_counting(first_cat, second_cat)\n",
        "                answer.append([first_cat, second_cat, round(cor, 2), round(p_value, 3)])\n",
        "            elif first_cat in nominal and second_cat not in nominal or first_cat not in nominal and second_cat in nominal:\n",
        "                # высчитывание корреляции для количественные-номинальные\n",
        "                try:\n",
        "                    cor, p_value = mannwhitneyu_counting(g1, g2)\n",
        "                    answer.append([first_cat, second_cat, round(cor, 2), round(p_value, 3)])\n",
        "                except TypeError:\n",
        "                    pass\n",
        "            else:\n",
        "                # высчитывание корреляции для количественные-количественные\n",
        "                if shapiro(g1).pvalue >= 0.05 and shapiro(g2).pvalue >= 0.05:\n",
        "                    # Данные распределены нормально\n",
        "                    cor, p_value = pearsonr_counting(g1, g2)\n",
        "                    answer.append([first_cat, second_cat, round(cor, 2), round(p_value, 3)])\n",
        "                else:\n",
        "                    # Данные распределены ненормально\n",
        "                    cor, p_value = spearmanr_counting(g1, g2)\n",
        "                    answer.append([first_cat, second_cat, round(cor, 2), round(p_value, 3)])\n",
        "\n",
        "# фильтруем данные\n",
        "new_answer = list()\n",
        "for result in answer:\n",
        "    if result[-2] != 0 and -1 <= result[-2] <= 1 and result[-1] <= 0.05:\n",
        "\n",
        "        new_answer.append(result)\n",
        "\n",
        "answer_df = pd.DataFrame(data=sorted(new_answer, key=lambda x: x[-2], reverse=True),\n",
        "                         columns=['Показатель №1', 'Показатель №2', 'Значение корреляции', 'p-уровень'])\n",
        "\n",
        "print(answer_df.head(10))\n"
      ],
      "metadata": {
        "colab": {
          "base_uri": "https://localhost:8080/"
        },
        "id": "8DQ3pNwNER8N",
        "outputId": "30992866-261e-4538-f7ce-ae8689d0b058"
      },
      "execution_count": 11,
      "outputs": [
        {
          "output_type": "stream",
          "name": "stdout",
          "text": [
            "           Показатель №1          Показатель №2  Значение корреляции  \\\n",
            "0                     уо                     мо                 0.99   \n",
            "1                     мо                     уо                 0.99   \n",
            "2                   нсо3                общ.со2                 0.98   \n",
            "3                общ.со2                   нсо3                 0.98   \n",
            "4                  дд_лж                    кдо                 0.93   \n",
            "5                  сд_лж                    ксо                 0.93   \n",
            "6                    кдо                  дд_лж                 0.93   \n",
            "7                    ксо                  сд_лж                 0.93   \n",
            "8       длительность_аик  время_пережатия_аорты                 0.89   \n",
            "9  время_пережатия_аорты       длительность_аик                 0.89   \n",
            "\n",
            "   p-уровень  \n",
            "0        0.0  \n",
            "1        0.0  \n",
            "2        0.0  \n",
            "3        0.0  \n",
            "4        0.0  \n",
            "5        0.0  \n",
            "6        0.0  \n",
            "7        0.0  \n",
            "8        0.0  \n",
            "9        0.0  \n"
          ]
        }
      ]
    },
    {
      "cell_type": "markdown",
      "source": [
        "Как можно заметить что p-уровень у самых сильных корреляций равен 0, что может значить, что данный результат не имеет реального смысла и скорее это просто особенность данных"
      ],
      "metadata": {
        "id": "961FMzvsEgmH"
      }
    }
  ]
}